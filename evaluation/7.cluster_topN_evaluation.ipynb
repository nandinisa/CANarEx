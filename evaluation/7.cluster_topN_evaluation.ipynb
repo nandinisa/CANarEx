{
 "cells": [
  {
   "cell_type": "code",
   "execution_count": 1,
   "id": "717577ff-0a1b-4a65-b17f-4af1b0986392",
   "metadata": {},
   "outputs": [],
   "source": [
    "import pandas as pd\n",
    "import json\n",
    "import pickle\n",
    "import joblib\n",
    "\n",
    "import matplotlib.pyplot as plt\n",
    "import seaborn as sns"
   ]
  },
  {
   "cell_type": "code",
   "execution_count": 2,
   "id": "ad68642c-29c2-4ba0-898a-af0eab092066",
   "metadata": {},
   "outputs": [],
   "source": [
    "import sys \n",
    "sys.path.append('../')\n",
    "from fast_tsne.fast_tsne import fast_tsne"
   ]
  },
  {
   "cell_type": "code",
   "execution_count": 3,
   "id": "4a58053e-c73a-4c01-8cba-2c876f3cc668",
   "metadata": {},
   "outputs": [],
   "source": [
    "import numpy as np\n",
    "from sklearn.linear_model import LinearRegression\n",
    "from sklearn.metrics import mean_squared_error, r2_score"
   ]
  },
  {
   "cell_type": "code",
   "execution_count": 4,
   "id": "083db42c-eae2-4c2c-b25f-948573fadbf4",
   "metadata": {},
   "outputs": [],
   "source": [
    "path='canarex_coref_text/topN'\n",
    "# path='canarex_coref_text_no_split_sentences/topN'\n",
    "ctype='coref_text'\n",
    "\n",
    "# path='canarex_true_text/topN'\n",
    "# path='canarex_true_text_no_split_sentences/topN'\n",
    "# path='relatio_test/clust_40/topN'\n",
    "# ctype='true_text'\n",
    "\n",
    "cpath = '{}/narratives_kmeans2_topN.pkl'.format(path)\n",
    "narratives_path='{}/final_narratives.jsonl'.format(path)\n",
    "result_path = '{}/results.jsonl'.format(path)\n",
    "eval_path = '{}/eval_output.csv'.format(path)\n",
    "\n"
   ]
  },
  {
   "cell_type": "markdown",
   "id": "0fef1ccb-762a-4e80-a3be-b12eb7cf1db4",
   "metadata": {},
   "source": [
    "### Load scores"
   ]
  },
  {
   "cell_type": "code",
   "execution_count": 5,
   "id": "d4b96cb2-01e0-4acd-a42b-d96cf916b082",
   "metadata": {},
   "outputs": [],
   "source": [
    "topN = pd.read_pickle(cpath)"
   ]
  },
  {
   "cell_type": "code",
   "execution_count": 6,
   "id": "5049c1a3-de91-42dd-a6a5-ff8fdc239404",
   "metadata": {},
   "outputs": [
    {
     "data": {
      "text/html": [
       "<div>\n",
       "<style scoped>\n",
       "    .dataframe tbody tr th:only-of-type {\n",
       "        vertical-align: middle;\n",
       "    }\n",
       "\n",
       "    .dataframe tbody tr th {\n",
       "        vertical-align: top;\n",
       "    }\n",
       "\n",
       "    .dataframe thead th {\n",
       "        text-align: right;\n",
       "    }\n",
       "</style>\n",
       "<table border=\"1\" class=\"dataframe\">\n",
       "  <thead>\n",
       "    <tr style=\"text-align: right;\">\n",
       "      <th></th>\n",
       "      <th>topN</th>\n",
       "      <th>k</th>\n",
       "      <th>score</th>\n",
       "      <th>dist</th>\n",
       "      <th>labels</th>\n",
       "    </tr>\n",
       "  </thead>\n",
       "  <tbody>\n",
       "    <tr>\n",
       "      <th>0</th>\n",
       "      <td>1</td>\n",
       "      <td>4</td>\n",
       "      <td>0.263655</td>\n",
       "      <td>[0.93414754, 0.26364124, 0.23640776, 1.0536901...</td>\n",
       "      <td>[3, 2, 2, 3, 2, 1, 2, 1, 2, 2, 1, 3, 0, 0, 1, ...</td>\n",
       "    </tr>\n",
       "  </tbody>\n",
       "</table>\n",
       "</div>"
      ],
      "text/plain": [
       "  topN  k     score                                               dist  \\\n",
       "0    1  4  0.263655  [0.93414754, 0.26364124, 0.23640776, 1.0536901...   \n",
       "\n",
       "                                              labels  \n",
       "0  [3, 2, 2, 3, 2, 1, 2, 1, 2, 2, 1, 3, 0, 0, 1, ...  "
      ]
     },
     "execution_count": 6,
     "metadata": {},
     "output_type": "execute_result"
    }
   ],
   "source": [
    "topN[topN.score == topN.score.max()]"
   ]
  },
  {
   "cell_type": "code",
   "execution_count": 7,
   "id": "aaba15b2-851b-49f0-a404-7d85eba7952b",
   "metadata": {},
   "outputs": [],
   "source": [
    "# get the top N sentences and K based on score\n",
    "N = topN[topN.score == topN.score.max()].iloc[0].topN\n",
    "k = topN[topN.score == topN.score.max()].iloc[0].k"
   ]
  },
  {
   "cell_type": "code",
   "execution_count": 9,
   "id": "b7a65c4f-77b3-48e5-9bdc-f119d122b537",
   "metadata": {},
   "outputs": [
    {
     "data": {
      "text/plain": [
       "1"
      ]
     },
     "execution_count": 9,
     "metadata": {},
     "output_type": "execute_result"
    }
   ],
   "source": [
    "N"
   ]
  },
  {
   "cell_type": "code",
   "execution_count": 8,
   "id": "c26fbef2-43b4-4ec3-83df-9f0f0cbe3f14",
   "metadata": {},
   "outputs": [],
   "source": [
    "topN = topN[topN.score == topN.score.max()]\n",
    "topN = topN.explode(['dist', 'labels']).reset_index(drop = True)"
   ]
  },
  {
   "cell_type": "markdown",
   "id": "0c69ea28-86e7-4856-bae3-6b72a34b4fe5",
   "metadata": {},
   "source": [
    "### Load document level clustering"
   ]
  },
  {
   "cell_type": "code",
   "execution_count": 9,
   "id": "98f32de5-7b94-42a7-9c39-3ebc3828a5f8",
   "metadata": {},
   "outputs": [
    {
     "data": {
      "text/html": [
       "<div>\n",
       "<style scoped>\n",
       "    .dataframe tbody tr th:only-of-type {\n",
       "        vertical-align: middle;\n",
       "    }\n",
       "\n",
       "    .dataframe tbody tr th {\n",
       "        vertical-align: top;\n",
       "    }\n",
       "\n",
       "    .dataframe thead th {\n",
       "        text-align: right;\n",
       "    }\n",
       "</style>\n",
       "<table border=\"1\" class=\"dataframe\">\n",
       "  <thead>\n",
       "    <tr style=\"text-align: right;\">\n",
       "      <th></th>\n",
       "      <th>id</th>\n",
       "      <th>verb</th>\n",
       "      <th>entity1</th>\n",
       "      <th>entity2</th>\n",
       "      <th>combined</th>\n",
       "      <th>ARGM-LOC</th>\n",
       "      <th>ARGM-TMP</th>\n",
       "      <th>narrative</th>\n",
       "      <th>sentence_id</th>\n",
       "      <th>sent</th>\n",
       "      <th>sent_id</th>\n",
       "      <th>time</th>\n",
       "      <th>synthetic_label</th>\n",
       "      <th>seq</th>\n",
       "      <th>embeddings</th>\n",
       "      <th>labels_2</th>\n",
       "      <th>dist_2</th>\n",
       "      <th>score_2</th>\n",
       "      <th>noise</th>\n",
       "    </tr>\n",
       "  </thead>\n",
       "  <tbody>\n",
       "    <tr>\n",
       "      <th>0</th>\n",
       "      <td>0002060a-61bb-40f6-a843-40d1acbaf858</td>\n",
       "      <td>stole</td>\n",
       "      <td>A person</td>\n",
       "      <td>over $ 1000</td>\n",
       "      <td>[A person, over $ 1000, for]</td>\n",
       "      <td></td>\n",
       "      <td></td>\n",
       "      <td>[A person] (stole) [over $ 1000]</td>\n",
       "      <td>0002060a-61bb-40f6-a843-40d1acbaf858_0</td>\n",
       "      <td>A person stole over $ 1000</td>\n",
       "      <td>0</td>\n",
       "      <td>295</td>\n",
       "      <td>2</td>\n",
       "      <td>0</td>\n",
       "      <td>[-0.09445274, 0.11801259, -0.0017595241, -0.03...</td>\n",
       "      <td>0</td>\n",
       "      <td>0.0</td>\n",
       "      <td>0.0153</td>\n",
       "      <td>True</td>\n",
       "    </tr>\n",
       "    <tr>\n",
       "      <th>1</th>\n",
       "      <td>0002060a-61bb-40f6-a843-40d1acbaf858</td>\n",
       "      <td>delivered</td>\n",
       "      <td>the Red Cross</td>\n",
       "      <td>parcels</td>\n",
       "      <td>[the Red Cross, parcels, to Adelaide]</td>\n",
       "      <td>at various locations</td>\n",
       "      <td></td>\n",
       "      <td>[the Red Cross] (delivered) [parcels]</td>\n",
       "      <td>0002060a-61bb-40f6-a843-40d1acbaf858_1</td>\n",
       "      <td>the Red Cross delivered parcels</td>\n",
       "      <td>1</td>\n",
       "      <td>295</td>\n",
       "      <td>2</td>\n",
       "      <td>1</td>\n",
       "      <td>[-0.023951985, -0.03448499, -0.03293211, 0.020...</td>\n",
       "      <td>1</td>\n",
       "      <td>0.470833</td>\n",
       "      <td>0.0153</td>\n",
       "      <td>True</td>\n",
       "    </tr>\n",
       "  </tbody>\n",
       "</table>\n",
       "</div>"
      ],
      "text/plain": [
       "                                     id       verb        entity1  \\\n",
       "0  0002060a-61bb-40f6-a843-40d1acbaf858      stole       A person   \n",
       "1  0002060a-61bb-40f6-a843-40d1acbaf858  delivered  the Red Cross   \n",
       "\n",
       "       entity2                               combined              ARGM-LOC  \\\n",
       "0  over $ 1000           [A person, over $ 1000, for]                         \n",
       "1      parcels  [the Red Cross, parcels, to Adelaide]  at various locations   \n",
       "\n",
       "  ARGM-TMP                              narrative  \\\n",
       "0                [A person] (stole) [over $ 1000]   \n",
       "1           [the Red Cross] (delivered) [parcels]   \n",
       "\n",
       "                              sentence_id                             sent  \\\n",
       "0  0002060a-61bb-40f6-a843-40d1acbaf858_0       A person stole over $ 1000   \n",
       "1  0002060a-61bb-40f6-a843-40d1acbaf858_1  the Red Cross delivered parcels   \n",
       "\n",
       "   sent_id  time  synthetic_label  seq  \\\n",
       "0        0   295                2    0   \n",
       "1        1   295                2    1   \n",
       "\n",
       "                                          embeddings labels_2    dist_2  \\\n",
       "0  [-0.09445274, 0.11801259, -0.0017595241, -0.03...        0       0.0   \n",
       "1  [-0.023951985, -0.03448499, -0.03293211, 0.020...        1  0.470833   \n",
       "\n",
       "   score_2  noise  \n",
       "0   0.0153   True  \n",
       "1   0.0153   True  "
      ]
     },
     "execution_count": 9,
     "metadata": {},
     "output_type": "execute_result"
    }
   ],
   "source": [
    "k2 = pd.read_pickle('{}/kmeans2.pkl'.format(path))\n",
    "k2.drop(columns='text').head(2)"
   ]
  },
  {
   "cell_type": "code",
   "execution_count": 10,
   "id": "82e6ac2b-6584-4a30-a67c-35b805298daf",
   "metadata": {},
   "outputs": [
    {
     "name": "stdout",
     "output_type": "stream",
     "text": [
      "N = 1\n"
     ]
    }
   ],
   "source": [
    "topn = k2.groupby(['id', 'labels_2']).size().reset_index(name='cl')\n",
    "topn.loc[:, 'maxl'] = topn.groupby('id')['cl'].transform(max)\n",
    "topn = topn[topn.cl == topn.maxl].drop(columns='maxl')\n",
    "topn = pd.merge(k2, topn.drop(columns='cl'))\n",
    "\n",
    "# get the number of narratives b/w 1-5 based on max value\n",
    "if N == 1:\n",
    "    print('N = 1')\n",
    "    topn = topn.sort_values(['id', 'labels_2', 'dist_2'], ascending=True).groupby('id').head(1)\n",
    "else:\n",
    "    topn = topn.sort_values(['id', 'labels_2', 'dist_2'], ascending=True).groupby(['id', 'narrative']).head(1)\n",
    "    topn = topn.sort_values(['id', 'labels_2', 'dist_2'], ascending=True).groupby('id').head(N)\n",
    "\n",
    "topn = topn.reset_index(drop = True)"
   ]
  },
  {
   "cell_type": "code",
   "execution_count": 11,
   "id": "ffb6756f-5b80-4259-8acc-bd8a3d113fee",
   "metadata": {},
   "outputs": [
    {
     "data": {
      "text/plain": [
       "(11110, 20)"
      ]
     },
     "execution_count": 11,
     "metadata": {},
     "output_type": "execute_result"
    }
   ],
   "source": [
    "topn.shape"
   ]
  },
  {
   "cell_type": "code",
   "execution_count": 12,
   "id": "85bbb1d4-c095-49e2-a0ba-34296c87eedb",
   "metadata": {},
   "outputs": [
    {
     "data": {
      "text/plain": [
       "(11110, 5)"
      ]
     },
     "execution_count": 12,
     "metadata": {},
     "output_type": "execute_result"
    }
   ],
   "source": [
    "topN.shape"
   ]
  },
  {
   "cell_type": "code",
   "execution_count": 13,
   "id": "5b2fcefd-b6fa-4650-a1e0-78c1ddacefda",
   "metadata": {},
   "outputs": [],
   "source": [
    "topn = pd.concat([topn, topN], axis = 1)"
   ]
  },
  {
   "cell_type": "code",
   "execution_count": 14,
   "id": "d6ae8497-ec1a-4253-b304-7a8e7e1e06f7",
   "metadata": {},
   "outputs": [
    {
     "data": {
      "text/plain": [
       "(11110, 25)"
      ]
     },
     "execution_count": 14,
     "metadata": {},
     "output_type": "execute_result"
    }
   ],
   "source": [
    "topn.shape"
   ]
  },
  {
   "cell_type": "code",
   "execution_count": 15,
   "id": "a8c43907-6593-452f-bb8c-87211aacbab6",
   "metadata": {},
   "outputs": [
    {
     "data": {
      "text/plain": [
       "RangeIndex(start=0, stop=11110, step=1)"
      ]
     },
     "execution_count": 15,
     "metadata": {},
     "output_type": "execute_result"
    }
   ],
   "source": [
    "topn.index"
   ]
  },
  {
   "cell_type": "code",
   "execution_count": 16,
   "id": "b11a53c9-ae63-4a0a-869d-1604b8052268",
   "metadata": {},
   "outputs": [
    {
     "data": {
      "text/plain": [
       "Index(['id', 'text', 'verb', 'entity1', 'entity2', 'combined', 'ARGM-LOC',\n",
       "       'ARGM-TMP', 'narrative', 'sentence_id', 'sent', 'sent_id', 'time',\n",
       "       'synthetic_label', 'seq', 'embeddings', 'labels_2', 'dist_2', 'score_2',\n",
       "       'noise', 'topN', 'k', 'score', 'dist', 'labels'],\n",
       "      dtype='object')"
      ]
     },
     "execution_count": 16,
     "metadata": {},
     "output_type": "execute_result"
    }
   ],
   "source": [
    "topn.columns"
   ]
  },
  {
   "cell_type": "code",
   "execution_count": null,
   "id": "f2042205-935b-4bf2-b59d-a9c3c94f286f",
   "metadata": {},
   "outputs": [],
   "source": [
    "topn.to_json(result_path, lines = True, orient='records')"
   ]
  },
  {
   "cell_type": "markdown",
   "id": "835a5f98-fbf4-4b27-b936-cde900275d27",
   "metadata": {},
   "source": [
    "### Calculate MSE"
   ]
  },
  {
   "cell_type": "code",
   "execution_count": 17,
   "id": "1eab5f40-7b8a-45e4-a562-c100f40f29f6",
   "metadata": {},
   "outputs": [],
   "source": [
    "from eval_canarex import calculate_mse"
   ]
  },
  {
   "cell_type": "code",
   "execution_count": 18,
   "id": "0b9f2912-6fc9-4246-b8a6-e04ce7e9a969",
   "metadata": {},
   "outputs": [],
   "source": [
    "df = pd.read_json('{}/synthetic_test_data_{}.jsonl'.format('synthetic_data', ctype), \n",
    "                  lines = True, orient='records')"
   ]
  },
  {
   "cell_type": "code",
   "execution_count": 19,
   "id": "730ff6e9-a487-446b-9b24-6863ac8bc600",
   "metadata": {},
   "outputs": [],
   "source": [
    "final = pd.read_json(result_path, lines = True, orient='records')"
   ]
  },
  {
   "cell_type": "code",
   "execution_count": 20,
   "id": "5d9a118b-779a-4916-8e08-6efb90b2d13f",
   "metadata": {},
   "outputs": [
    {
     "data": {
      "text/plain": [
       "'canarex_coref_text/topN/eval_output.csv'"
      ]
     },
     "execution_count": 20,
     "metadata": {},
     "output_type": "execute_result"
    }
   ],
   "source": [
    "eval_path"
   ]
  },
  {
   "cell_type": "code",
   "execution_count": 21,
   "id": "142e9bfe-a639-4667-886b-8b824fea68d3",
   "metadata": {},
   "outputs": [],
   "source": [
    "eval_df = calculate_mse(df, final)"
   ]
  },
  {
   "cell_type": "code",
   "execution_count": 22,
   "id": "30ce2e61-5c15-441f-a9e3-618bd14555f0",
   "metadata": {},
   "outputs": [
    {
     "data": {
      "text/html": [
       "<div>\n",
       "<style scoped>\n",
       "    .dataframe tbody tr th:only-of-type {\n",
       "        vertical-align: middle;\n",
       "    }\n",
       "\n",
       "    .dataframe tbody tr th {\n",
       "        vertical-align: top;\n",
       "    }\n",
       "\n",
       "    .dataframe thead th {\n",
       "        text-align: right;\n",
       "    }\n",
       "</style>\n",
       "<table border=\"1\" class=\"dataframe\">\n",
       "  <thead>\n",
       "    <tr style=\"text-align: right;\">\n",
       "      <th></th>\n",
       "      <th>orig_clust</th>\n",
       "      <th>pred_clust</th>\n",
       "      <th>intercept</th>\n",
       "      <th>coef</th>\n",
       "      <th>mse</th>\n",
       "      <th>r_sq</th>\n",
       "    </tr>\n",
       "  </thead>\n",
       "  <tbody>\n",
       "    <tr>\n",
       "      <th>2</th>\n",
       "      <td>1</td>\n",
       "      <td>1</td>\n",
       "      <td>-5.318633</td>\n",
       "      <td>28.490656</td>\n",
       "      <td>782.431038</td>\n",
       "      <td>0.968371</td>\n",
       "    </tr>\n",
       "    <tr>\n",
       "      <th>7</th>\n",
       "      <td>2</td>\n",
       "      <td>0</td>\n",
       "      <td>2.662701</td>\n",
       "      <td>30.320734</td>\n",
       "      <td>1530.570495</td>\n",
       "      <td>0.969473</td>\n",
       "    </tr>\n",
       "    <tr>\n",
       "      <th>9</th>\n",
       "      <td>3</td>\n",
       "      <td>2</td>\n",
       "      <td>-15.503688</td>\n",
       "      <td>28.259219</td>\n",
       "      <td>2359.21485</td>\n",
       "      <td>0.72846</td>\n",
       "    </tr>\n",
       "  </tbody>\n",
       "</table>\n",
       "</div>"
      ],
      "text/plain": [
       "  orig_clust pred_clust  intercept       coef          mse      r_sq\n",
       "2          1          1  -5.318633  28.490656   782.431038  0.968371\n",
       "7          2          0   2.662701  30.320734  1530.570495  0.969473\n",
       "9          3          2 -15.503688  28.259219   2359.21485   0.72846"
      ]
     },
     "execution_count": 22,
     "metadata": {},
     "output_type": "execute_result"
    }
   ],
   "source": [
    "eval_df[eval_df.mse == eval_df.groupby(['orig_clust'])['mse'].transform('min')]"
   ]
  },
  {
   "cell_type": "code",
   "execution_count": 41,
   "id": "e7de7f97-9049-4484-ae2b-9a941ffc8698",
   "metadata": {},
   "outputs": [],
   "source": [
    "eval_df.to_csv(eval_path, index = False)"
   ]
  },
  {
   "cell_type": "code",
   "execution_count": null,
   "id": "29bb2d80-63d0-4ee7-90f7-67362dbba8f3",
   "metadata": {},
   "outputs": [],
   "source": []
  }
 ],
 "metadata": {
  "kernelspec": {
   "display_name": "Python 3 (ipykernel)",
   "language": "python",
   "name": "python3"
  },
  "language_info": {
   "codemirror_mode": {
    "name": "ipython",
    "version": 3
   },
   "file_extension": ".py",
   "mimetype": "text/x-python",
   "name": "python",
   "nbconvert_exporter": "python",
   "pygments_lexer": "ipython3",
   "version": "3.9.5"
  }
 },
 "nbformat": 4,
 "nbformat_minor": 5
}
