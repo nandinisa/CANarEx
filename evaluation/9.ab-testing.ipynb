{
 "cells": [
  {
   "cell_type": "code",
   "execution_count": 1,
   "id": "bf735535-1e27-45f3-a36d-3fafaa78f200",
   "metadata": {},
   "outputs": [],
   "source": [
    "import numpy as np\n",
    "from statsmodels.stats import power as pwr\n",
    "from scipy.stats import chi2_contingency, chi2 \n",
    "from sklearn import metrics\n",
    "\n",
    "import pandas as pd\n",
    "import json\n",
    "import pickle\n",
    "import joblib"
   ]
  },
  {
   "cell_type": "code",
   "execution_count": 2,
   "id": "e9c81bbd-619d-487e-a4b0-e1326e594ba0",
   "metadata": {},
   "outputs": [],
   "source": [
    "from collections import deque"
   ]
  },
  {
   "cell_type": "code",
   "execution_count": 3,
   "id": "b9988215-a94b-4e4f-ac83-19afcb536440",
   "metadata": {},
   "outputs": [],
   "source": [
    "def map_label(t):\n",
    "    # Gives different label mapping w.r.t count and MSE. \n",
    "    # We use count here as we are concerned with max recovery\n",
    "    label_mapping = t[t.noise == False].groupby(['synthetic_label', 'labels']).\\\n",
    "    size().\\\n",
    "    reset_index(name='l').\\\n",
    "    sort_values(['synthetic_label', 'l'], ascending=[True, False]).\\\n",
    "    groupby(['synthetic_label']).\\\n",
    "    head(1)\n",
    "    label_mapping = label_mapping[['synthetic_label', 'labels']].rename(columns = {'synthetic_label': 'new_labels'})\n",
    "\n",
    "\n",
    "    # Map the rest of the (N-3) labels to a single cluster (as it is not considered recovery)\n",
    "    # Used for plotting graphs\n",
    "    pending_labels = deque()\n",
    "    pending_labels.extend(set(range(0, t.labels.nunique())) - set(label_mapping.labels.tolist()))\n",
    "\n",
    "    label_mapping_dict = []\n",
    "    for i in range(4, 4 + len(pending_labels)):\n",
    "        label_mapping_dict.append({'new_labels': 4, 'labels':pending_labels.pop()})\n",
    "\n",
    "    # Add pending labels\n",
    "    label_mapping = pd.concat([label_mapping, pd.DataFrame(label_mapping_dict)], axis = 0).reset_index(drop = True)\n",
    "    t = pd.merge(t, label_mapping)\n",
    "    \n",
    "    return t\n",
    "\n",
    "\n",
    "\n",
    "def map_label_by_mse(eval_df, t):\n",
    "    label_mapping = eval_df[eval_df.mse == eval_df.groupby(['orig_clust'])['mse'].transform('min')]\n",
    "    label_mapping = label_mapping[['orig_clust', 'pred_clust']].\\\n",
    "        rename(columns={'orig_clust':'new_labels',\n",
    "                        'pred_clust':'labels'})\n",
    "    \n",
    "    # Map the rest of the (N-3) labels to a single cluster (as it is not considered recovery)\n",
    "    # Used for plotting graphs\n",
    "    pending_labels = deque()\n",
    "    pending_labels.extend(set(range(0, t.labels.nunique())) - set(label_mapping.labels.tolist()))\n",
    "\n",
    "    label_mapping_dict = []\n",
    "    for i in range(4, 4 + len(pending_labels)):\n",
    "        label_mapping_dict.append({'new_labels': 4, 'labels':pending_labels.pop()})\n",
    "\n",
    "    # Add pending labels\n",
    "    label_mapping = pd.concat([label_mapping, pd.DataFrame(label_mapping_dict)], axis = 0).reset_index(drop = True)\n",
    "    t = pd.merge(t, label_mapping)\n",
    "    \n",
    "    return t\n",
    "\n",
    "\n",
    "def map_clusters(t):\n",
    "    # calculate cluster sizes\n",
    "    test_clust_count = t[['time','id','synthetic_label', \n",
    "                   'new_labels', 'noise', 'text', 'sentence_id']].drop_duplicates().\\\n",
    "    groupby(['synthetic_label', 'new_labels', 'noise']).size().reset_index(name='l')\n",
    "\n",
    "    # get cluster size for noise (cluster 4)\n",
    "    noise_clust = test_clust_count[(test_clust_count.noise == True)].\\\n",
    "        groupby('new_labels').l.sum().reset_index()\n",
    "    noise_clust['synthetic_label'] = 4\n",
    "    \n",
    "    # get cluster size without noise (cluster 1-3)\n",
    "    test_clust_count = test_clust_count[test_clust_count.noise == False].drop(columns='noise')\n",
    "    # merge\n",
    "    test_clust_count = pd.concat([test_clust_count, noise_clust]).reset_index(drop = True)\n",
    "\n",
    "    # label cluster\n",
    "    test_clust_count['synthetic_label'] = 'C' + test_clust_count['synthetic_label'].astype(str)\n",
    "    test_clust_count['new_labels'] = 'C' + test_clust_count['new_labels'].astype(str)\n",
    "    \n",
    "    # repeat row assignment mapping according to the size of cluster\n",
    "    test_clust_count = test_clust_count.loc[test_clust_count.index.repeat(test_clust_count.l)]\n",
    "    test_clust_count = test_clust_count.drop(columns='l')\n",
    "    \n",
    "    return(test_clust_count)\n",
    "\n",
    "\n",
    "\n",
    "def get_proportions(synthetic_data, recovered_data):\n",
    "    # size of original cluster\n",
    "    op = synthetic_data[['time','id', 'synthetic_label', 'noise', 'text', 'sentence_id']].drop_duplicates()\n",
    "    op = op[(op.noise == False)].\\\n",
    "        groupby(['synthetic_label', 'time']).size().reset_index(name='l')\n",
    "\n",
    "    # size of recovered cluster\n",
    "    test_count = recovered_data[['time','id','synthetic_label', \n",
    "                       'new_labels', 'noise', 'text', 'sentence_id']].drop_duplicates()\n",
    "    tp = test_count[(test_count.noise == False) & \n",
    "             (test_count.synthetic_label == test_count.new_labels)].\\\n",
    "        groupby(['time', 'new_labels']).size().reset_index(name='l')\n",
    "    \n",
    "    tp = pd.merge(tp, op, \n",
    "             left_on = ['time', 'new_labels'],\n",
    "             right_on = ['time', 'synthetic_label'])\n",
    "    tp['prop'] = tp.l_x/tp.l_y\n",
    "    \n",
    "    result_prop = tp.groupby(['new_labels'])['prop'].mean()\n",
    "    \n",
    "    return(result_prop)"
   ]
  },
  {
   "cell_type": "markdown",
   "id": "bf9bfc83-268e-443a-9a2e-c82260359a3e",
   "metadata": {},
   "source": [
    "### Precision/recall for CANarEx"
   ]
  },
  {
   "cell_type": "code",
   "execution_count": 4,
   "id": "da47ac82-a6f4-427d-81d0-0a6f5d685dcf",
   "metadata": {},
   "outputs": [],
   "source": [
    "path='canarex_coref_text'\n",
    "result_path = '{}/results.jsonl'.format(path)\n",
    "eval_path = '{}/eval_output.csv'.format(path)\n",
    "\n",
    "ctype='coref_text'"
   ]
  },
  {
   "cell_type": "code",
   "execution_count": 5,
   "id": "1aad9def-7c43-4920-a79a-0d40861c46f5",
   "metadata": {},
   "outputs": [],
   "source": [
    "df = pd.read_json('{}/synthetic_test_data_{}.jsonl'.format('synthetic_data', ctype), \n",
    "                  lines = True, orient='records')"
   ]
  },
  {
   "cell_type": "code",
   "execution_count": 6,
   "id": "400d682e-6eae-4f61-ae82-66a1759aae4f",
   "metadata": {},
   "outputs": [],
   "source": [
    "final = pd.read_json(result_path, lines = True)"
   ]
  },
  {
   "cell_type": "code",
   "execution_count": 7,
   "id": "57a5f299-98f1-4287-bd89-486072753cce",
   "metadata": {},
   "outputs": [
    {
     "data": {
      "text/html": [
       "<div>\n",
       "<style scoped>\n",
       "    .dataframe tbody tr th:only-of-type {\n",
       "        vertical-align: middle;\n",
       "    }\n",
       "\n",
       "    .dataframe tbody tr th {\n",
       "        vertical-align: top;\n",
       "    }\n",
       "\n",
       "    .dataframe thead th {\n",
       "        text-align: right;\n",
       "    }\n",
       "</style>\n",
       "<table border=\"1\" class=\"dataframe\">\n",
       "  <thead>\n",
       "    <tr style=\"text-align: right;\">\n",
       "      <th></th>\n",
       "      <th>orig_clust</th>\n",
       "      <th>pred_clust</th>\n",
       "      <th>intercept</th>\n",
       "      <th>coef</th>\n",
       "      <th>mse</th>\n",
       "      <th>r_sq</th>\n",
       "    </tr>\n",
       "  </thead>\n",
       "  <tbody>\n",
       "    <tr>\n",
       "      <th>3</th>\n",
       "      <td>1</td>\n",
       "      <td>3</td>\n",
       "      <td>-3.812890</td>\n",
       "      <td>1.274363</td>\n",
       "      <td>46.770132</td>\n",
       "      <td>0.998164</td>\n",
       "    </tr>\n",
       "    <tr>\n",
       "      <th>6</th>\n",
       "      <td>2</td>\n",
       "      <td>0</td>\n",
       "      <td>-3.792096</td>\n",
       "      <td>1.375623</td>\n",
       "      <td>79.376873</td>\n",
       "      <td>0.998461</td>\n",
       "    </tr>\n",
       "    <tr>\n",
       "      <th>9</th>\n",
       "      <td>3</td>\n",
       "      <td>2</td>\n",
       "      <td>-4.492334</td>\n",
       "      <td>1.343579</td>\n",
       "      <td>155.413557</td>\n",
       "      <td>0.985731</td>\n",
       "    </tr>\n",
       "  </tbody>\n",
       "</table>\n",
       "</div>"
      ],
      "text/plain": [
       "   orig_clust  pred_clust  intercept      coef         mse      r_sq\n",
       "3           1           3  -3.812890  1.274363   46.770132  0.998164\n",
       "6           2           0  -3.792096  1.375623   79.376873  0.998461\n",
       "9           3           2  -4.492334  1.343579  155.413557  0.985731"
      ]
     },
     "execution_count": 7,
     "metadata": {},
     "output_type": "execute_result"
    }
   ],
   "source": [
    "eval_df = pd.read_csv(eval_path)\n",
    "eval_df[eval_df.mse == eval_df.groupby(['orig_clust'])['mse'].transform('min')]"
   ]
  },
  {
   "cell_type": "code",
   "execution_count": 8,
   "id": "b86868b5-4e77-4c36-b827-e67b47dc6275",
   "metadata": {},
   "outputs": [],
   "source": [
    "label_mapping = final[final.noise == False].groupby(['synthetic_label', 'labels']).\\\n",
    "size().\\\n",
    "reset_index(name='l').\\\n",
    "sort_values(['synthetic_label', 'l'], ascending=[True, False]).\\\n",
    "groupby(['synthetic_label']).\\\n",
    "head(1)"
   ]
  },
  {
   "cell_type": "code",
   "execution_count": 9,
   "id": "e2213e0a-9a49-4998-af4d-70fa2b887800",
   "metadata": {},
   "outputs": [
    {
     "data": {
      "text/html": [
       "<div>\n",
       "<style scoped>\n",
       "    .dataframe tbody tr th:only-of-type {\n",
       "        vertical-align: middle;\n",
       "    }\n",
       "\n",
       "    .dataframe tbody tr th {\n",
       "        vertical-align: top;\n",
       "    }\n",
       "\n",
       "    .dataframe thead th {\n",
       "        text-align: right;\n",
       "    }\n",
       "</style>\n",
       "<table border=\"1\" class=\"dataframe\">\n",
       "  <thead>\n",
       "    <tr style=\"text-align: right;\">\n",
       "      <th></th>\n",
       "      <th>synthetic_label</th>\n",
       "      <th>labels</th>\n",
       "      <th>l</th>\n",
       "    </tr>\n",
       "  </thead>\n",
       "  <tbody>\n",
       "    <tr>\n",
       "      <th>3</th>\n",
       "      <td>1</td>\n",
       "      <td>3</td>\n",
       "      <td>56737</td>\n",
       "    </tr>\n",
       "    <tr>\n",
       "      <th>4</th>\n",
       "      <td>2</td>\n",
       "      <td>0</td>\n",
       "      <td>75933</td>\n",
       "    </tr>\n",
       "    <tr>\n",
       "      <th>10</th>\n",
       "      <td>3</td>\n",
       "      <td>2</td>\n",
       "      <td>142879</td>\n",
       "    </tr>\n",
       "  </tbody>\n",
       "</table>\n",
       "</div>"
      ],
      "text/plain": [
       "    synthetic_label  labels       l\n",
       "3                 1       3   56737\n",
       "4                 2       0   75933\n",
       "10                3       2  142879"
      ]
     },
     "execution_count": 9,
     "metadata": {},
     "output_type": "execute_result"
    }
   ],
   "source": [
    "label_mapping"
   ]
  },
  {
   "cell_type": "code",
   "execution_count": 10,
   "id": "f3f0ad34-8a4b-491d-8af0-68b9b5cade5c",
   "metadata": {},
   "outputs": [],
   "source": [
    "final = map_label(final)"
   ]
  },
  {
   "cell_type": "code",
   "execution_count": 11,
   "id": "c32e1cc6-67c9-4c82-bdf2-43adc91c10d5",
   "metadata": {},
   "outputs": [],
   "source": [
    "test_clust_count = map_clusters(final)"
   ]
  },
  {
   "cell_type": "code",
   "execution_count": 12,
   "id": "67bd1aa4-10f3-4a8c-a574-93d289c01ee4",
   "metadata": {},
   "outputs": [
    {
     "data": {
      "text/html": [
       "<div>\n",
       "<style scoped>\n",
       "    .dataframe tbody tr th:only-of-type {\n",
       "        vertical-align: middle;\n",
       "    }\n",
       "\n",
       "    .dataframe tbody tr th {\n",
       "        vertical-align: top;\n",
       "    }\n",
       "\n",
       "    .dataframe thead th {\n",
       "        text-align: right;\n",
       "    }\n",
       "</style>\n",
       "<table border=\"1\" class=\"dataframe\">\n",
       "  <thead>\n",
       "    <tr style=\"text-align: right;\">\n",
       "      <th></th>\n",
       "      <th>synthetic_label</th>\n",
       "      <th>new_labels</th>\n",
       "    </tr>\n",
       "  </thead>\n",
       "  <tbody>\n",
       "    <tr>\n",
       "      <th>0</th>\n",
       "      <td>C1</td>\n",
       "      <td>C1</td>\n",
       "    </tr>\n",
       "    <tr>\n",
       "      <th>0</th>\n",
       "      <td>C1</td>\n",
       "      <td>C1</td>\n",
       "    </tr>\n",
       "    <tr>\n",
       "      <th>0</th>\n",
       "      <td>C1</td>\n",
       "      <td>C1</td>\n",
       "    </tr>\n",
       "    <tr>\n",
       "      <th>0</th>\n",
       "      <td>C1</td>\n",
       "      <td>C1</td>\n",
       "    </tr>\n",
       "    <tr>\n",
       "      <th>0</th>\n",
       "      <td>C1</td>\n",
       "      <td>C1</td>\n",
       "    </tr>\n",
       "  </tbody>\n",
       "</table>\n",
       "</div>"
      ],
      "text/plain": [
       "  synthetic_label new_labels\n",
       "0              C1         C1\n",
       "0              C1         C1\n",
       "0              C1         C1\n",
       "0              C1         C1\n",
       "0              C1         C1"
      ]
     },
     "execution_count": 12,
     "metadata": {},
     "output_type": "execute_result"
    }
   ],
   "source": [
    "test_clust_count.head(5)"
   ]
  },
  {
   "cell_type": "code",
   "execution_count": 13,
   "id": "bb1d67c6-c315-4594-b359-fdd3934e96cc",
   "metadata": {},
   "outputs": [
    {
     "name": "stdout",
     "output_type": "stream",
     "text": [
      "[[33501   182   430  3735]\n",
      " [  978 53681   139 10089]\n",
      " [  609   373 93769 15893]\n",
      " [  651  1208  2732 72915]]\n"
     ]
    }
   ],
   "source": [
    "print(metrics.confusion_matrix(test_clust_count.synthetic_label.tolist(), \n",
    "                               test_clust_count.new_labels.tolist()))"
   ]
  },
  {
   "cell_type": "code",
   "execution_count": 14,
   "id": "3c8484b3-63b5-422b-bef0-efb5b4e6352d",
   "metadata": {},
   "outputs": [
    {
     "name": "stdout",
     "output_type": "stream",
     "text": [
      "              precision    recall  f1-score   support\n",
      "\n",
      "          C1       0.94      0.89      0.91     37848\n",
      "          C2       0.97      0.83      0.89     64887\n",
      "          C3       0.97      0.85      0.90    110644\n",
      "          C4       0.71      0.94      0.81     77506\n",
      "\n",
      "    accuracy                           0.87    290885\n",
      "   macro avg       0.90      0.88      0.88    290885\n",
      "weighted avg       0.89      0.87      0.88    290885\n",
      "\n"
     ]
    }
   ],
   "source": [
    "print(metrics.classification_report(test_clust_count.synthetic_label.tolist(), \n",
    "                               test_clust_count.new_labels.tolist()))"
   ]
  },
  {
   "cell_type": "markdown",
   "id": "ea8db568-9774-446f-81de-0478cf4bade5",
   "metadata": {},
   "source": [
    "#### Proportion recovered"
   ]
  },
  {
   "cell_type": "code",
   "execution_count": 15,
   "id": "9e501e6a-a59b-42c2-a7f5-0b5cece1ecdf",
   "metadata": {},
   "outputs": [],
   "source": [
    "canarex_prop = get_proportions(df, final)"
   ]
  },
  {
   "cell_type": "markdown",
   "id": "710241ca-8c30-41dd-9592-c3dcf8f9bd2b",
   "metadata": {
    "tags": []
   },
   "source": [
    "### Precision/recall for Relatio"
   ]
  },
  {
   "cell_type": "code",
   "execution_count": 16,
   "id": "ea2278b3-c514-487e-8afc-a49889fa8caf",
   "metadata": {},
   "outputs": [],
   "source": [
    "path='relatio_test/clust_100/'\n",
    "\n",
    "result_path = '{}/results.jsonl'.format(path)\n",
    "eval_path = '{}/eval_output.csv'.format(path)\n",
    "\n",
    "ctype='true_text'"
   ]
  },
  {
   "cell_type": "code",
   "execution_count": 17,
   "id": "7e302fac-04b9-4817-b45f-43e49bcdb972",
   "metadata": {},
   "outputs": [],
   "source": [
    "df = pd.read_json('{}/synthetic_test_data_{}.jsonl'.format('synthetic_data', ctype), \n",
    "                  lines = True, orient='records')"
   ]
  },
  {
   "cell_type": "code",
   "execution_count": 18,
   "id": "18e42aaf-41cb-4c7f-9d75-bffbdeb89e6e",
   "metadata": {},
   "outputs": [],
   "source": [
    "final = pd.read_json(result_path, lines = True)"
   ]
  },
  {
   "cell_type": "code",
   "execution_count": 19,
   "id": "7bc9b4a4-c440-4ffe-805a-cc2df0b77e35",
   "metadata": {},
   "outputs": [],
   "source": [
    "final = map_label(final)"
   ]
  },
  {
   "cell_type": "code",
   "execution_count": 20,
   "id": "13d62b91-7e37-4dd2-9690-80b98f46f216",
   "metadata": {},
   "outputs": [],
   "source": [
    "test_clust_count = map_clusters(final)"
   ]
  },
  {
   "cell_type": "code",
   "execution_count": 21,
   "id": "8271ac3f-d66e-422b-90c9-09b097fc5a35",
   "metadata": {},
   "outputs": [
    {
     "name": "stdout",
     "output_type": "stream",
     "text": [
      "[[10818  2810   426  6389]\n",
      " [ 1659 14157   335 19917]\n",
      " [  882  9198 49875  7463]\n",
      " [ 2013 24785  2290 13249]]\n"
     ]
    }
   ],
   "source": [
    "print(metrics.confusion_matrix(test_clust_count.synthetic_label.tolist(), \n",
    "                               test_clust_count.new_labels.tolist()))"
   ]
  },
  {
   "cell_type": "code",
   "execution_count": 22,
   "id": "c34343e4-39f4-4eb6-abf9-19eabb3d2210",
   "metadata": {},
   "outputs": [
    {
     "name": "stdout",
     "output_type": "stream",
     "text": [
      "              precision    recall  f1-score   support\n",
      "\n",
      "          C1       0.70      0.53      0.60     20443\n",
      "          C2       0.28      0.39      0.33     36068\n",
      "          C3       0.94      0.74      0.83     67418\n",
      "          C4       0.28      0.31      0.30     42337\n",
      "\n",
      "    accuracy                           0.53    166266\n",
      "   macro avg       0.55      0.49      0.51    166266\n",
      "weighted avg       0.60      0.53      0.56    166266\n",
      "\n"
     ]
    }
   ],
   "source": [
    "print(metrics.classification_report(test_clust_count.synthetic_label.tolist(), \n",
    "                               test_clust_count.new_labels.tolist()))"
   ]
  },
  {
   "cell_type": "markdown",
   "id": "d96cc669-0321-4ee0-88a3-22d616300518",
   "metadata": {},
   "source": [
    "#### Proportion recovered"
   ]
  },
  {
   "cell_type": "code",
   "execution_count": 23,
   "id": "6b8089e0-2fcb-4930-be39-36bc0e8172da",
   "metadata": {},
   "outputs": [],
   "source": [
    "relatio_prop = get_proportions(df, final)"
   ]
  },
  {
   "cell_type": "markdown",
   "id": "ba90a504-6d04-4637-b479-538220f9a9e9",
   "metadata": {},
   "source": [
    "#### MSE labels"
   ]
  },
  {
   "cell_type": "code",
   "execution_count": 24,
   "id": "eec4476b-1c55-4c8c-bdda-2d133cc2f086",
   "metadata": {},
   "outputs": [
    {
     "data": {
      "text/html": [
       "<div>\n",
       "<style scoped>\n",
       "    .dataframe tbody tr th:only-of-type {\n",
       "        vertical-align: middle;\n",
       "    }\n",
       "\n",
       "    .dataframe tbody tr th {\n",
       "        vertical-align: top;\n",
       "    }\n",
       "\n",
       "    .dataframe thead th {\n",
       "        text-align: right;\n",
       "    }\n",
       "</style>\n",
       "<table border=\"1\" class=\"dataframe\">\n",
       "  <thead>\n",
       "    <tr style=\"text-align: right;\">\n",
       "      <th></th>\n",
       "      <th>orig_clust</th>\n",
       "      <th>pred_clust</th>\n",
       "      <th>intercept</th>\n",
       "      <th>coef</th>\n",
       "      <th>mse</th>\n",
       "      <th>r_sq</th>\n",
       "    </tr>\n",
       "  </thead>\n",
       "  <tbody>\n",
       "    <tr>\n",
       "      <th>5</th>\n",
       "      <td>1</td>\n",
       "      <td>5</td>\n",
       "      <td>-19.232467</td>\n",
       "      <td>3.206690</td>\n",
       "      <td>471.754359</td>\n",
       "      <td>0.977219</td>\n",
       "    </tr>\n",
       "    <tr>\n",
       "      <th>10</th>\n",
       "      <td>2</td>\n",
       "      <td>4</td>\n",
       "      <td>-43.677397</td>\n",
       "      <td>5.831577</td>\n",
       "      <td>1444.872357</td>\n",
       "      <td>0.967830</td>\n",
       "    </tr>\n",
       "    <tr>\n",
       "      <th>14</th>\n",
       "      <td>3</td>\n",
       "      <td>2</td>\n",
       "      <td>4.528892</td>\n",
       "      <td>2.235056</td>\n",
       "      <td>580.683972</td>\n",
       "      <td>0.936984</td>\n",
       "    </tr>\n",
       "  </tbody>\n",
       "</table>\n",
       "</div>"
      ],
      "text/plain": [
       "    orig_clust  pred_clust  intercept      coef          mse      r_sq\n",
       "5            1           5 -19.232467  3.206690   471.754359  0.977219\n",
       "10           2           4 -43.677397  5.831577  1444.872357  0.967830\n",
       "14           3           2   4.528892  2.235056   580.683972  0.936984"
      ]
     },
     "execution_count": 24,
     "metadata": {},
     "output_type": "execute_result"
    }
   ],
   "source": [
    "# note: MSE labels differ from count labels\n",
    "eval_df = pd.read_csv(eval_path)\n",
    "eval_df[eval_df.mse == eval_df.groupby(['orig_clust'])['mse'].transform('min')]"
   ]
  },
  {
   "cell_type": "code",
   "execution_count": 25,
   "id": "9ce7bc9a-469e-4628-afa4-956dc5a77626",
   "metadata": {},
   "outputs": [],
   "source": [
    "final = pd.read_json(result_path, lines = True)"
   ]
  },
  {
   "cell_type": "code",
   "execution_count": 26,
   "id": "c3eed3b9-f65e-4a47-a130-e82251c55f8f",
   "metadata": {},
   "outputs": [],
   "source": [
    "final = map_label_by_mse(eval_df, final)"
   ]
  },
  {
   "cell_type": "code",
   "execution_count": 27,
   "id": "9dc2d3f7-24b8-4dd2-8f8e-a4f950f4d244",
   "metadata": {},
   "outputs": [],
   "source": [
    "test_clust_count = map_clusters(final)"
   ]
  },
  {
   "cell_type": "code",
   "execution_count": 28,
   "id": "c3b04cb2-beae-4eb3-a66c-03cb14690b71",
   "metadata": {},
   "outputs": [
    {
     "name": "stdout",
     "output_type": "stream",
     "text": [
      "[[10818   512   426  8124]\n",
      " [ 1659 11148   335 22644]\n",
      " [  882  1151 49875 15198]\n",
      " [ 2013  3014  2290 33602]]\n"
     ]
    }
   ],
   "source": [
    "print(metrics.confusion_matrix(test_clust_count.synthetic_label.tolist(), \n",
    "                               test_clust_count.new_labels.tolist()))"
   ]
  },
  {
   "cell_type": "code",
   "execution_count": 29,
   "id": "fbb3463b-2afe-4093-b7af-6da4e56ce6dc",
   "metadata": {},
   "outputs": [
    {
     "name": "stdout",
     "output_type": "stream",
     "text": [
      "              precision    recall  f1-score   support\n",
      "\n",
      "          C1       0.70      0.54      0.61     19880\n",
      "          C2       0.70      0.31      0.43     35786\n",
      "          C3       0.94      0.74      0.83     67106\n",
      "          C4       0.42      0.82      0.56     40919\n",
      "\n",
      "    accuracy                           0.64    163691\n",
      "   macro avg       0.69      0.61      0.61    163691\n",
      "weighted avg       0.73      0.64      0.65    163691\n",
      "\n"
     ]
    }
   ],
   "source": [
    "print(metrics.classification_report(test_clust_count.synthetic_label.tolist(), \n",
    "                               test_clust_count.new_labels.tolist()))"
   ]
  },
  {
   "cell_type": "code",
   "execution_count": null,
   "id": "bb00552d-f720-4968-ac57-6c13c3df028a",
   "metadata": {},
   "outputs": [],
   "source": []
  },
  {
   "cell_type": "markdown",
   "id": "995035e8-79f1-48ec-97e3-f514eebfa0d6",
   "metadata": {
    "tags": []
   },
   "source": [
    "### A/B testing"
   ]
  },
  {
   "cell_type": "code",
   "execution_count": 30,
   "id": "050f7760-0036-4ec9-acb8-9e009a0147ff",
   "metadata": {},
   "outputs": [
    {
     "data": {
      "text/plain": [
       "new_labels\n",
       "1    0.766905\n",
       "2    0.721745\n",
       "3    0.732509\n",
       "Name: prop, dtype: float64"
      ]
     },
     "execution_count": 30,
     "metadata": {},
     "output_type": "execute_result"
    }
   ],
   "source": [
    "canarex_prop"
   ]
  },
  {
   "cell_type": "code",
   "execution_count": 31,
   "id": "0678631e-ef68-4813-ba26-e142f5af0ab0",
   "metadata": {},
   "outputs": [
    {
     "data": {
      "text/plain": [
       "new_labels\n",
       "1    0.270610\n",
       "2    0.200972\n",
       "3    0.415421\n",
       "Name: prop, dtype: float64"
      ]
     },
     "execution_count": 31,
     "metadata": {},
     "output_type": "execute_result"
    }
   ],
   "source": [
    "relatio_prop"
   ]
  },
  {
   "cell_type": "code",
   "execution_count": 32,
   "id": "66135487-3c75-47fa-b30d-90d135667050",
   "metadata": {},
   "outputs": [
    {
     "data": {
      "text/plain": [
       "Ttest_indResult(statistic=6.882829433158639, pvalue=0.0023351285628415482)"
      ]
     },
     "execution_count": 32,
     "metadata": {},
     "output_type": "execute_result"
    }
   ],
   "source": [
    "from scipy.stats import ttest_ind\n",
    "\n",
    "ttest_ind(canarex_prop, \n",
    "      relatio_prop)"
   ]
  },
  {
   "cell_type": "code",
   "execution_count": null,
   "id": "48c22027-b64f-4fc8-add6-d8163fed2ed3",
   "metadata": {},
   "outputs": [],
   "source": []
  }
 ],
 "metadata": {
  "kernelspec": {
   "display_name": "Python 3.7.9 64-bit",
   "language": "python",
   "name": "python3"
  },
  "language_info": {
   "codemirror_mode": {
    "name": "ipython",
    "version": 3
   },
   "file_extension": ".py",
   "mimetype": "text/x-python",
   "name": "python",
   "nbconvert_exporter": "python",
   "pygments_lexer": "ipython3",
   "version": "3.7.9"
  },
  "vscode": {
   "interpreter": {
    "hash": "aee8b7b246df8f9039afb4144a1f6fd8d2ca17a180786b69acc140d282b71a49"
   }
  }
 },
 "nbformat": 4,
 "nbformat_minor": 5
}
