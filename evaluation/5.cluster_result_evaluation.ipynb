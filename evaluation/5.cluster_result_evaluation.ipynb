{
 "cells": [
  {
   "cell_type": "code",
   "execution_count": 1,
   "id": "07dbe042-5098-4014-85b8-3a845b8c52f5",
   "metadata": {},
   "outputs": [],
   "source": [
    "import pandas as pd\n",
    "import json\n",
    "import pickle\n",
    "import joblib\n",
    "\n",
    "import matplotlib.pyplot as plt\n",
    "import seaborn as sns"
   ]
  },
  {
   "cell_type": "code",
   "execution_count": 2,
   "id": "8d7556da-96da-497f-af9a-60053ab0c4d3",
   "metadata": {},
   "outputs": [],
   "source": [
    "import numpy as np\n",
    "from collections import deque\n",
    "from sklearn.linear_model import LinearRegression\n",
    "from sklearn.metrics import mean_squared_error, r2_score"
   ]
  },
  {
   "cell_type": "code",
   "execution_count": 3,
   "id": "ce44fc4e-03c6-4f81-ab7b-a0009b75c61a",
   "metadata": {},
   "outputs": [],
   "source": [
    "import sys \n",
    "sys.path.append('../')\n",
    "from fast_tsne.fast_tsne import fast_tsne"
   ]
  },
  {
   "cell_type": "code",
   "execution_count": 4,
   "id": "6ef8692c-01fe-4f42-9377-b23d0e230920",
   "metadata": {},
   "outputs": [],
   "source": [
    "from eval_canarex import calculate_mse"
   ]
  },
  {
   "cell_type": "markdown",
   "id": "e5e2325e-684c-44af-93c9-6fd22d78b708",
   "metadata": {
    "tags": []
   },
   "source": [
    "## Cluster results"
   ]
  },
  {
   "cell_type": "code",
   "execution_count": 5,
   "id": "2739e1c1-3b08-40de-a506-36c4642c2a09",
   "metadata": {},
   "outputs": [],
   "source": [
    "path='canarex_coref_text'\n",
    "ctype='coref_text'\n",
    "\n",
    "cpath = '{}/kmeans_all.pkl'.format(path)\n",
    "narratives_path='{}/final_narratives.jsonl'.format(path)\n",
    "result_path = '{}/results.jsonl'.format(path)\n",
    "eval_path = '{}/eval_output.csv'.format(path)\n"
   ]
  },
  {
   "cell_type": "markdown",
   "id": "35a25367-fdec-4a49-9735-1453dc5e8175",
   "metadata": {},
   "source": [
    "### Load scores"
   ]
  },
  {
   "cell_type": "code",
   "execution_count": 6,
   "id": "c86977b4-42f4-468c-b4c7-efc003e6064d",
   "metadata": {
    "tags": []
   },
   "outputs": [],
   "source": [
    "df = pd.read_pickle(cpath)"
   ]
  },
  {
   "cell_type": "code",
   "execution_count": 7,
   "id": "241bfb70-e6c1-426f-8a60-6a67466af9e0",
   "metadata": {},
   "outputs": [
    {
     "data": {
      "text/html": [
       "<div>\n",
       "<style scoped>\n",
       "    .dataframe tbody tr th:only-of-type {\n",
       "        vertical-align: middle;\n",
       "    }\n",
       "\n",
       "    .dataframe tbody tr th {\n",
       "        vertical-align: top;\n",
       "    }\n",
       "\n",
       "    .dataframe thead th {\n",
       "        text-align: right;\n",
       "    }\n",
       "</style>\n",
       "<table border=\"1\" class=\"dataframe\">\n",
       "  <thead>\n",
       "    <tr style=\"text-align: right;\">\n",
       "      <th></th>\n",
       "      <th>k</th>\n",
       "      <th>score</th>\n",
       "      <th>dist</th>\n",
       "      <th>labels</th>\n",
       "    </tr>\n",
       "  </thead>\n",
       "  <tbody>\n",
       "    <tr>\n",
       "      <th>0</th>\n",
       "      <td>2</td>\n",
       "      <td>0.110007</td>\n",
       "      <td>[1.0786139, 1.0129762, 0.93938935, 0.41308832,...</td>\n",
       "      <td>[0, 0, 0, 1, 1, 1, 1, 1, 1, 1, 1, 1, 1, 1, 1, ...</td>\n",
       "    </tr>\n",
       "    <tr>\n",
       "      <th>0</th>\n",
       "      <td>3</td>\n",
       "      <td>0.131193</td>\n",
       "      <td>[1.0521417, 0.9711358, 1.0121782, 0.40926528, ...</td>\n",
       "      <td>[1, 1, 1, 0, 0, 0, 0, 0, 0, 0, 0, 0, 0, 0, 0, ...</td>\n",
       "    </tr>\n",
       "  </tbody>\n",
       "</table>\n",
       "</div>"
      ],
      "text/plain": [
       "   k     score                                               dist  \\\n",
       "0  2  0.110007  [1.0786139, 1.0129762, 0.93938935, 0.41308832,...   \n",
       "0  3  0.131193  [1.0521417, 0.9711358, 1.0121782, 0.40926528, ...   \n",
       "\n",
       "                                              labels  \n",
       "0  [0, 0, 0, 1, 1, 1, 1, 1, 1, 1, 1, 1, 1, 1, 1, ...  \n",
       "0  [1, 1, 1, 0, 0, 0, 0, 0, 0, 0, 0, 0, 0, 0, 0, ...  "
      ]
     },
     "execution_count": 7,
     "metadata": {},
     "output_type": "execute_result"
    }
   ],
   "source": [
    "df.head(2)"
   ]
  },
  {
   "cell_type": "code",
   "execution_count": 8,
   "id": "6e0b2c16-1375-45f3-a9be-08a77f2faf7d",
   "metadata": {},
   "outputs": [],
   "source": [
    "df = df[df.score == df.score.max()]\n",
    "df = df.explode(['dist', 'labels'])\n",
    "df = df.reset_index(drop = True)"
   ]
  },
  {
   "cell_type": "code",
   "execution_count": 9,
   "id": "b130b37a-3094-4404-8b1e-018e9201b10b",
   "metadata": {},
   "outputs": [
    {
     "data": {
      "text/plain": [
       "(421247, 4)"
      ]
     },
     "execution_count": 9,
     "metadata": {},
     "output_type": "execute_result"
    }
   ],
   "source": [
    "df.shape"
   ]
  },
  {
   "cell_type": "code",
   "execution_count": 10,
   "id": "3ebea7f8-d08c-48b5-8df7-597a2460f621",
   "metadata": {},
   "outputs": [
    {
     "data": {
      "text/plain": [
       "4"
      ]
     },
     "execution_count": 10,
     "metadata": {},
     "output_type": "execute_result"
    }
   ],
   "source": [
    "df.labels.nunique()"
   ]
  },
  {
   "cell_type": "markdown",
   "id": "49160976-cdc2-4ce2-bf49-63f08dd9f6e1",
   "metadata": {},
   "source": [
    "### Merge narratives"
   ]
  },
  {
   "cell_type": "code",
   "execution_count": 11,
   "id": "215a6212-48f6-4c5f-9b0d-4f1ce5a00c43",
   "metadata": {},
   "outputs": [
    {
     "data": {
      "text/plain": [
       "'canarex_coref_text/final_narratives.jsonl'"
      ]
     },
     "execution_count": 11,
     "metadata": {},
     "output_type": "execute_result"
    }
   ],
   "source": [
    "narratives_path"
   ]
  },
  {
   "cell_type": "code",
   "execution_count": 12,
   "id": "87a31867-56ae-44ee-8d12-58eec15991f0",
   "metadata": {},
   "outputs": [],
   "source": [
    "chunks = pd.read_json(narratives_path, \n",
    "                      lines=True, chunksize=10000)\n",
    "narratives = None\n",
    "for chunk in chunks:\n",
    "    if narratives is None:\n",
    "        narratives = chunk\n",
    "    else:\n",
    "        narratives = pd.concat([narratives, chunk], axis=0)"
   ]
  },
  {
   "cell_type": "code",
   "execution_count": 13,
   "id": "379ebc69-c257-48a7-af52-ab41044bb60c",
   "metadata": {},
   "outputs": [],
   "source": [
    "final = pd.concat([narratives, df.reset_index(drop = True)],\n",
    "                  axis = 1)"
   ]
  },
  {
   "cell_type": "code",
   "execution_count": 14,
   "id": "5ac21904-940e-42e2-9305-c5eaa72c3a94",
   "metadata": {},
   "outputs": [
    {
     "data": {
      "text/plain": [
       "(421247, 19)"
      ]
     },
     "execution_count": 14,
     "metadata": {},
     "output_type": "execute_result"
    }
   ],
   "source": [
    "final.shape"
   ]
  },
  {
   "cell_type": "code",
   "execution_count": 16,
   "id": "ec023a8c-8cd4-4d16-9744-28d0c429a2d7",
   "metadata": {},
   "outputs": [
    {
     "data": {
      "text/html": [
       "<div>\n",
       "<style scoped>\n",
       "    .dataframe tbody tr th:only-of-type {\n",
       "        vertical-align: middle;\n",
       "    }\n",
       "\n",
       "    .dataframe tbody tr th {\n",
       "        vertical-align: top;\n",
       "    }\n",
       "\n",
       "    .dataframe thead th {\n",
       "        text-align: right;\n",
       "    }\n",
       "</style>\n",
       "<table border=\"1\" class=\"dataframe\">\n",
       "  <thead>\n",
       "    <tr style=\"text-align: right;\">\n",
       "      <th></th>\n",
       "      <th>synthetic_label</th>\n",
       "      <th>labels</th>\n",
       "      <th>l</th>\n",
       "    </tr>\n",
       "  </thead>\n",
       "  <tbody>\n",
       "    <tr>\n",
       "      <th>3</th>\n",
       "      <td>1</td>\n",
       "      <td>3</td>\n",
       "      <td>56737</td>\n",
       "    </tr>\n",
       "    <tr>\n",
       "      <th>1</th>\n",
       "      <td>1</td>\n",
       "      <td>1</td>\n",
       "      <td>4602</td>\n",
       "    </tr>\n",
       "    <tr>\n",
       "      <th>2</th>\n",
       "      <td>1</td>\n",
       "      <td>2</td>\n",
       "      <td>456</td>\n",
       "    </tr>\n",
       "    <tr>\n",
       "      <th>4</th>\n",
       "      <td>2</td>\n",
       "      <td>0</td>\n",
       "      <td>75933</td>\n",
       "    </tr>\n",
       "    <tr>\n",
       "      <th>5</th>\n",
       "      <td>2</td>\n",
       "      <td>1</td>\n",
       "      <td>13573</td>\n",
       "    </tr>\n",
       "    <tr>\n",
       "      <th>7</th>\n",
       "      <td>2</td>\n",
       "      <td>3</td>\n",
       "      <td>1248</td>\n",
       "    </tr>\n",
       "    <tr>\n",
       "      <th>10</th>\n",
       "      <td>3</td>\n",
       "      <td>2</td>\n",
       "      <td>142879</td>\n",
       "    </tr>\n",
       "    <tr>\n",
       "      <th>9</th>\n",
       "      <td>3</td>\n",
       "      <td>1</td>\n",
       "      <td>20827</td>\n",
       "    </tr>\n",
       "    <tr>\n",
       "      <th>11</th>\n",
       "      <td>3</td>\n",
       "      <td>3</td>\n",
       "      <td>775</td>\n",
       "    </tr>\n",
       "  </tbody>\n",
       "</table>\n",
       "</div>"
      ],
      "text/plain": [
       "    synthetic_label  labels       l\n",
       "3                 1       3   56737\n",
       "1                 1       1    4602\n",
       "2                 1       2     456\n",
       "4                 2       0   75933\n",
       "5                 2       1   13573\n",
       "7                 2       3    1248\n",
       "10                3       2  142879\n",
       "9                 3       1   20827\n",
       "11                3       3     775"
      ]
     },
     "execution_count": 16,
     "metadata": {},
     "output_type": "execute_result"
    }
   ],
   "source": [
    "final[final.noise == False].groupby(['synthetic_label', 'labels']).\\\n",
    "size().\\\n",
    "reset_index(name='l').\\\n",
    "sort_values(['synthetic_label', 'l'], ascending=[True, False]).\\\n",
    "groupby(['synthetic_label']).\\\n",
    "head(3)"
   ]
  },
  {
   "cell_type": "markdown",
   "id": "e4234be7-7daf-499c-bdb9-2cee557a08b2",
   "metadata": {
    "tags": []
   },
   "source": [
    "### Save output"
   ]
  },
  {
   "cell_type": "code",
   "execution_count": 15,
   "id": "954ef06d-8187-4ae7-baa9-5b65cc2887d4",
   "metadata": {},
   "outputs": [
    {
     "data": {
      "text/plain": [
       "'canarex_coref_text/results.jsonl'"
      ]
     },
     "execution_count": 15,
     "metadata": {},
     "output_type": "execute_result"
    }
   ],
   "source": [
    "result_path"
   ]
  },
  {
   "cell_type": "code",
   "execution_count": 34,
   "id": "f428044e-a638-44a4-a3f6-c2d2572b030e",
   "metadata": {},
   "outputs": [],
   "source": [
    "final.to_json(result_path, lines = True, orient='records')"
   ]
  },
  {
   "cell_type": "markdown",
   "id": "dad2deb1-2f59-4c9c-8207-2a9331883c6f",
   "metadata": {
    "tags": []
   },
   "source": [
    "### Original cluster"
   ]
  },
  {
   "cell_type": "code",
   "execution_count": 16,
   "id": "a5fa234d-8049-433c-8ec6-5135de7df2a4",
   "metadata": {},
   "outputs": [],
   "source": [
    "df = pd.read_json('{}/synthetic_test_data_{}.jsonl'.format('synthetic_data', ctype), \n",
    "                  lines = True, orient='records')"
   ]
  },
  {
   "cell_type": "code",
   "execution_count": 17,
   "id": "cd1a467d-0a51-4940-86dd-58ab0598c4db",
   "metadata": {},
   "outputs": [
    {
     "data": {
      "text/html": [
       "<div>\n",
       "<style scoped>\n",
       "    .dataframe tbody tr th:only-of-type {\n",
       "        vertical-align: middle;\n",
       "    }\n",
       "\n",
       "    .dataframe tbody tr th {\n",
       "        vertical-align: top;\n",
       "    }\n",
       "\n",
       "    .dataframe thead th {\n",
       "        text-align: right;\n",
       "    }\n",
       "</style>\n",
       "<table border=\"1\" class=\"dataframe\">\n",
       "  <thead>\n",
       "    <tr style=\"text-align: right;\">\n",
       "      <th></th>\n",
       "      <th>id</th>\n",
       "      <th>sent_id</th>\n",
       "      <th>time</th>\n",
       "      <th>synthetic_label</th>\n",
       "      <th>sentence_id</th>\n",
       "      <th>noise</th>\n",
       "    </tr>\n",
       "  </thead>\n",
       "  <tbody>\n",
       "    <tr>\n",
       "      <th>0</th>\n",
       "      <td>3a720591-c06f-4382-8a6c-8d26c7a356bf</td>\n",
       "      <td>0</td>\n",
       "      <td>0</td>\n",
       "      <td>1</td>\n",
       "      <td>3a720591-c06f-4382-8a6c-8d26c7a356bf_0</td>\n",
       "      <td>True</td>\n",
       "    </tr>\n",
       "    <tr>\n",
       "      <th>1</th>\n",
       "      <td>3a720591-c06f-4382-8a6c-8d26c7a356bf</td>\n",
       "      <td>1</td>\n",
       "      <td>0</td>\n",
       "      <td>1</td>\n",
       "      <td>3a720591-c06f-4382-8a6c-8d26c7a356bf_1</td>\n",
       "      <td>True</td>\n",
       "    </tr>\n",
       "  </tbody>\n",
       "</table>\n",
       "</div>"
      ],
      "text/plain": [
       "                                     id  sent_id  time  synthetic_label  \\\n",
       "0  3a720591-c06f-4382-8a6c-8d26c7a356bf        0     0                1   \n",
       "1  3a720591-c06f-4382-8a6c-8d26c7a356bf        1     0                1   \n",
       "\n",
       "                              sentence_id  noise  \n",
       "0  3a720591-c06f-4382-8a6c-8d26c7a356bf_0   True  \n",
       "1  3a720591-c06f-4382-8a6c-8d26c7a356bf_1   True  "
      ]
     },
     "execution_count": 17,
     "metadata": {},
     "output_type": "execute_result"
    }
   ],
   "source": [
    "df.drop(columns='text').head(2)"
   ]
  },
  {
   "cell_type": "code",
   "execution_count": 18,
   "id": "eca8b072-0bd5-47c1-8809-77a8e62f89ee",
   "metadata": {},
   "outputs": [
    {
     "data": {
      "text/plain": [
       "3    154870\n",
       "2    111124\n",
       "1     74807\n",
       "Name: synthetic_label, dtype: int64"
      ]
     },
     "execution_count": 18,
     "metadata": {},
     "output_type": "execute_result"
    }
   ],
   "source": [
    "df.synthetic_label.value_counts()"
   ]
  },
  {
   "cell_type": "code",
   "execution_count": 24,
   "id": "f2fb8b4a-2876-4581-927e-32131089b82e",
   "metadata": {},
   "outputs": [],
   "source": [
    "# 1 = triangle (kevin rudd)\n",
    "# 2 = square (climate change)\n",
    "# 3 = random wave (Indeginous people)"
   ]
  },
  {
   "cell_type": "markdown",
   "id": "cedd7d40-f8f8-4d19-97d4-8d5c113c72b2",
   "metadata": {},
   "source": [
    "### Calculate MSE"
   ]
  },
  {
   "cell_type": "code",
   "execution_count": 25,
   "id": "35cf6bbe-29ef-441a-9060-f8c43d61468d",
   "metadata": {},
   "outputs": [],
   "source": [
    "df = pd.read_json('{}/synthetic_test_data_{}.jsonl'.format('synthetic_data', ctype), \n",
    "                  lines = True, orient='records')"
   ]
  },
  {
   "cell_type": "code",
   "execution_count": 26,
   "id": "afabc992-b4b4-4939-b5af-9dd3efda450b",
   "metadata": {},
   "outputs": [
    {
     "data": {
      "text/plain": [
       "'canarex_coref_text/results.jsonl'"
      ]
     },
     "execution_count": 26,
     "metadata": {},
     "output_type": "execute_result"
    }
   ],
   "source": [
    "result_path"
   ]
  },
  {
   "cell_type": "code",
   "execution_count": 27,
   "id": "64add6f2-5b95-43d7-b85a-a47a573d7085",
   "metadata": {},
   "outputs": [],
   "source": [
    "final = pd.read_json(result_path, lines = True)"
   ]
  },
  {
   "cell_type": "code",
   "execution_count": 28,
   "id": "b4bd1790-f3f5-4a01-a3e9-f6c735902a0c",
   "metadata": {},
   "outputs": [
    {
     "data": {
      "text/html": [
       "<div>\n",
       "<style scoped>\n",
       "    .dataframe tbody tr th:only-of-type {\n",
       "        vertical-align: middle;\n",
       "    }\n",
       "\n",
       "    .dataframe tbody tr th {\n",
       "        vertical-align: top;\n",
       "    }\n",
       "\n",
       "    .dataframe thead th {\n",
       "        text-align: right;\n",
       "    }\n",
       "</style>\n",
       "<table border=\"1\" class=\"dataframe\">\n",
       "  <thead>\n",
       "    <tr style=\"text-align: right;\">\n",
       "      <th></th>\n",
       "      <th>id</th>\n",
       "      <th>verb</th>\n",
       "      <th>entity1</th>\n",
       "      <th>entity2</th>\n",
       "      <th>combined</th>\n",
       "      <th>ARGM-LOC</th>\n",
       "      <th>ARGM-TMP</th>\n",
       "      <th>narrative</th>\n",
       "      <th>sentence_id</th>\n",
       "      <th>sent</th>\n",
       "      <th>sent_id</th>\n",
       "      <th>time</th>\n",
       "      <th>synthetic_label</th>\n",
       "      <th>noise</th>\n",
       "      <th>k</th>\n",
       "      <th>score</th>\n",
       "      <th>dist</th>\n",
       "      <th>labels</th>\n",
       "    </tr>\n",
       "  </thead>\n",
       "  <tbody>\n",
       "    <tr>\n",
       "      <th>0</th>\n",
       "      <td>0002060a-61bb-40f6-a843-40d1acbaf858</td>\n",
       "      <td>stole</td>\n",
       "      <td>A person</td>\n",
       "      <td>over $ 1000</td>\n",
       "      <td>[A person, over $ 1000, for]</td>\n",
       "      <td></td>\n",
       "      <td></td>\n",
       "      <td>[A person] (stole) [over $ 1000]</td>\n",
       "      <td>0002060a-61bb-40f6-a843-40d1acbaf858_0</td>\n",
       "      <td>A person stole over $ 1000</td>\n",
       "      <td>0</td>\n",
       "      <td>295</td>\n",
       "      <td>2</td>\n",
       "      <td>True</td>\n",
       "      <td>4</td>\n",
       "      <td>0.144362</td>\n",
       "      <td>1.002397</td>\n",
       "      <td>1</td>\n",
       "    </tr>\n",
       "    <tr>\n",
       "      <th>1</th>\n",
       "      <td>0002060a-61bb-40f6-a843-40d1acbaf858</td>\n",
       "      <td>delivered</td>\n",
       "      <td>the Red Cross</td>\n",
       "      <td>parcels</td>\n",
       "      <td>[the Red Cross, parcels, to Adelaide]</td>\n",
       "      <td>at various locations</td>\n",
       "      <td></td>\n",
       "      <td>[the Red Cross] (delivered) [parcels]</td>\n",
       "      <td>0002060a-61bb-40f6-a843-40d1acbaf858_1</td>\n",
       "      <td>the Red Cross delivered parcels</td>\n",
       "      <td>1</td>\n",
       "      <td>295</td>\n",
       "      <td>2</td>\n",
       "      <td>True</td>\n",
       "      <td>4</td>\n",
       "      <td>0.144362</td>\n",
       "      <td>0.925335</td>\n",
       "      <td>1</td>\n",
       "    </tr>\n",
       "  </tbody>\n",
       "</table>\n",
       "</div>"
      ],
      "text/plain": [
       "                                     id       verb        entity1  \\\n",
       "0  0002060a-61bb-40f6-a843-40d1acbaf858      stole       A person   \n",
       "1  0002060a-61bb-40f6-a843-40d1acbaf858  delivered  the Red Cross   \n",
       "\n",
       "       entity2                               combined              ARGM-LOC  \\\n",
       "0  over $ 1000           [A person, over $ 1000, for]                         \n",
       "1      parcels  [the Red Cross, parcels, to Adelaide]  at various locations   \n",
       "\n",
       "  ARGM-TMP                              narrative  \\\n",
       "0                [A person] (stole) [over $ 1000]   \n",
       "1           [the Red Cross] (delivered) [parcels]   \n",
       "\n",
       "                              sentence_id                             sent  \\\n",
       "0  0002060a-61bb-40f6-a843-40d1acbaf858_0       A person stole over $ 1000   \n",
       "1  0002060a-61bb-40f6-a843-40d1acbaf858_1  the Red Cross delivered parcels   \n",
       "\n",
       "   sent_id  time  synthetic_label  noise  k     score      dist  labels  \n",
       "0        0   295                2   True  4  0.144362  1.002397       1  \n",
       "1        1   295                2   True  4  0.144362  0.925335       1  "
      ]
     },
     "execution_count": 28,
     "metadata": {},
     "output_type": "execute_result"
    }
   ],
   "source": [
    "final.drop(columns='text').head(2)"
   ]
  },
  {
   "cell_type": "code",
   "execution_count": 29,
   "id": "e1858d3b-0dd5-4ef4-8b76-c2a21c8905be",
   "metadata": {},
   "outputs": [],
   "source": [
    "eval_df = calculate_mse(df, final)"
   ]
  },
  {
   "cell_type": "code",
   "execution_count": 30,
   "id": "7b8690a9-fc0c-49aa-9658-d3b11e81da2c",
   "metadata": {},
   "outputs": [
    {
     "data": {
      "text/html": [
       "<div>\n",
       "<style scoped>\n",
       "    .dataframe tbody tr th:only-of-type {\n",
       "        vertical-align: middle;\n",
       "    }\n",
       "\n",
       "    .dataframe tbody tr th {\n",
       "        vertical-align: top;\n",
       "    }\n",
       "\n",
       "    .dataframe thead th {\n",
       "        text-align: right;\n",
       "    }\n",
       "</style>\n",
       "<table border=\"1\" class=\"dataframe\">\n",
       "  <thead>\n",
       "    <tr style=\"text-align: right;\">\n",
       "      <th></th>\n",
       "      <th>orig_clust</th>\n",
       "      <th>pred_clust</th>\n",
       "      <th>intercept</th>\n",
       "      <th>coef</th>\n",
       "      <th>mse</th>\n",
       "      <th>r_sq</th>\n",
       "    </tr>\n",
       "  </thead>\n",
       "  <tbody>\n",
       "    <tr>\n",
       "      <th>3</th>\n",
       "      <td>1</td>\n",
       "      <td>3</td>\n",
       "      <td>-3.81289</td>\n",
       "      <td>1.274363</td>\n",
       "      <td>46.770132</td>\n",
       "      <td>0.998164</td>\n",
       "    </tr>\n",
       "    <tr>\n",
       "      <th>6</th>\n",
       "      <td>2</td>\n",
       "      <td>0</td>\n",
       "      <td>-3.792096</td>\n",
       "      <td>1.375623</td>\n",
       "      <td>79.376873</td>\n",
       "      <td>0.998461</td>\n",
       "    </tr>\n",
       "    <tr>\n",
       "      <th>9</th>\n",
       "      <td>3</td>\n",
       "      <td>2</td>\n",
       "      <td>-4.492334</td>\n",
       "      <td>1.343579</td>\n",
       "      <td>155.413557</td>\n",
       "      <td>0.985731</td>\n",
       "    </tr>\n",
       "  </tbody>\n",
       "</table>\n",
       "</div>"
      ],
      "text/plain": [
       "  orig_clust pred_clust intercept      coef         mse      r_sq\n",
       "3          1          3  -3.81289  1.274363   46.770132  0.998164\n",
       "6          2          0 -3.792096  1.375623   79.376873  0.998461\n",
       "9          3          2 -4.492334  1.343579  155.413557  0.985731"
      ]
     },
     "execution_count": 30,
     "metadata": {},
     "output_type": "execute_result"
    }
   ],
   "source": [
    "eval_df[eval_df.mse == eval_df.groupby(['orig_clust'])['mse'].transform('min')]"
   ]
  },
  {
   "cell_type": "code",
   "execution_count": 31,
   "id": "e208cda1-e34e-471a-8baf-5ccc1f8eb0ed",
   "metadata": {},
   "outputs": [
    {
     "data": {
      "text/plain": [
       "'canarex_coref_text/eval_output.csv'"
      ]
     },
     "execution_count": 31,
     "metadata": {},
     "output_type": "execute_result"
    }
   ],
   "source": [
    "eval_path"
   ]
  },
  {
   "cell_type": "code",
   "execution_count": 31,
   "id": "752c457f-e447-45e6-83f2-8b4a701ac37d",
   "metadata": {},
   "outputs": [],
   "source": [
    "eval_df.to_csv(eval_path, index = False)"
   ]
  },
  {
   "cell_type": "markdown",
   "id": "f6ddb71c-7719-4f9c-831f-0f8feb7a54e9",
   "metadata": {},
   "source": [
    "### Create label mapping"
   ]
  },
  {
   "cell_type": "code",
   "execution_count": 32,
   "id": "6b300594-837d-4ee0-83d7-3392f1cdfc73",
   "metadata": {},
   "outputs": [],
   "source": [
    "label_mapping = eval_df[eval_df.mse == eval_df.groupby(['orig_clust'])['mse'].transform('min')]\n",
    "label_mapping = label_mapping[['orig_clust', 'pred_clust']]\n",
    "label_mapping = label_mapping.rename(columns = {'pred_clust': 'labels',\n",
    "                                      'orig_clust':'new_labels'})"
   ]
  },
  {
   "cell_type": "code",
   "execution_count": 33,
   "id": "2e2c6f1b-9eb6-4037-a122-f942ba3c7104",
   "metadata": {},
   "outputs": [
    {
     "data": {
      "text/html": [
       "<div>\n",
       "<style scoped>\n",
       "    .dataframe tbody tr th:only-of-type {\n",
       "        vertical-align: middle;\n",
       "    }\n",
       "\n",
       "    .dataframe tbody tr th {\n",
       "        vertical-align: top;\n",
       "    }\n",
       "\n",
       "    .dataframe thead th {\n",
       "        text-align: right;\n",
       "    }\n",
       "</style>\n",
       "<table border=\"1\" class=\"dataframe\">\n",
       "  <thead>\n",
       "    <tr style=\"text-align: right;\">\n",
       "      <th></th>\n",
       "      <th>new_labels</th>\n",
       "      <th>labels</th>\n",
       "    </tr>\n",
       "  </thead>\n",
       "  <tbody>\n",
       "    <tr>\n",
       "      <th>3</th>\n",
       "      <td>1</td>\n",
       "      <td>3</td>\n",
       "    </tr>\n",
       "    <tr>\n",
       "      <th>6</th>\n",
       "      <td>2</td>\n",
       "      <td>0</td>\n",
       "    </tr>\n",
       "    <tr>\n",
       "      <th>9</th>\n",
       "      <td>3</td>\n",
       "      <td>2</td>\n",
       "    </tr>\n",
       "  </tbody>\n",
       "</table>\n",
       "</div>"
      ],
      "text/plain": [
       "  new_labels labels\n",
       "3          1      3\n",
       "6          2      0\n",
       "9          3      2"
      ]
     },
     "execution_count": 33,
     "metadata": {},
     "output_type": "execute_result"
    }
   ],
   "source": [
    "label_mapping"
   ]
  },
  {
   "cell_type": "code",
   "execution_count": 34,
   "id": "5dc4ac2c-a72f-49d6-94e6-d8a120165a89",
   "metadata": {},
   "outputs": [],
   "source": [
    "# column, new_labels: mapped original cluster assignments (3 clusters)\n",
    "# column, labels: new cluster assignments (N clusters)\n",
    "\n",
    "# Map the rest of the (N-3) labels to a single cluster (as it is not considered recovery)\n",
    "# Used for plotting graphs\n",
    "pending_labels = deque()\n",
    "pending_labels.extend(set(range(0, final.labels.nunique())) - set(label_mapping.labels.tolist()))\n",
    "\n",
    "label_mapping_dict = []\n",
    "for i in range(4, 4 + len(pending_labels)):\n",
    "    label_mapping_dict.append({'new_labels': 4, 'labels':pending_labels.pop()})\n",
    "\n",
    "# Add pending labels\n",
    "label_mapping = pd.concat([label_mapping, pd.DataFrame(label_mapping_dict)], axis = 0).reset_index(drop = True)"
   ]
  },
  {
   "cell_type": "code",
   "execution_count": 35,
   "id": "1fd28d27-c269-47ce-9561-0aa276943fb4",
   "metadata": {},
   "outputs": [
    {
     "data": {
      "text/html": [
       "<div>\n",
       "<style scoped>\n",
       "    .dataframe tbody tr th:only-of-type {\n",
       "        vertical-align: middle;\n",
       "    }\n",
       "\n",
       "    .dataframe tbody tr th {\n",
       "        vertical-align: top;\n",
       "    }\n",
       "\n",
       "    .dataframe thead th {\n",
       "        text-align: right;\n",
       "    }\n",
       "</style>\n",
       "<table border=\"1\" class=\"dataframe\">\n",
       "  <thead>\n",
       "    <tr style=\"text-align: right;\">\n",
       "      <th></th>\n",
       "      <th>new_labels</th>\n",
       "      <th>labels</th>\n",
       "    </tr>\n",
       "  </thead>\n",
       "  <tbody>\n",
       "    <tr>\n",
       "      <th>0</th>\n",
       "      <td>1</td>\n",
       "      <td>3</td>\n",
       "    </tr>\n",
       "    <tr>\n",
       "      <th>1</th>\n",
       "      <td>2</td>\n",
       "      <td>0</td>\n",
       "    </tr>\n",
       "    <tr>\n",
       "      <th>2</th>\n",
       "      <td>3</td>\n",
       "      <td>2</td>\n",
       "    </tr>\n",
       "    <tr>\n",
       "      <th>3</th>\n",
       "      <td>4</td>\n",
       "      <td>1</td>\n",
       "    </tr>\n",
       "  </tbody>\n",
       "</table>\n",
       "</div>"
      ],
      "text/plain": [
       "  new_labels labels\n",
       "0          1      3\n",
       "1          2      0\n",
       "2          3      2\n",
       "3          4      1"
      ]
     },
     "execution_count": 35,
     "metadata": {},
     "output_type": "execute_result"
    }
   ],
   "source": [
    "# narrative cluster assignments mapped to orignial synthetic cluster\n",
    "# Cluster 1 = triangle (kevin rudd)\n",
    "# Cluster 2 = square (climate change)\n",
    "# Cluster 3 = random wave (Indeginous people)\n",
    "# Cluster 4 = Other new cluster identified (we treat this as noise)\n",
    "label_mapping"
   ]
  },
  {
   "cell_type": "code",
   "execution_count": 36,
   "id": "897d850d-1614-4da4-9627-7d2737c44cc5",
   "metadata": {},
   "outputs": [],
   "source": [
    "final = pd.merge(final, label_mapping)"
   ]
  },
  {
   "cell_type": "markdown",
   "id": "b23fe8fe-c409-4d71-ab7e-2e59e8e5fb4a",
   "metadata": {},
   "source": [
    "### Plot narrative clusters"
   ]
  },
  {
   "cell_type": "code",
   "execution_count": 37,
   "id": "d02804fb-8d46-48a0-9d36-d6e29b817ac6",
   "metadata": {},
   "outputs": [],
   "source": [
    "cluster_labels = {1:'Cluster 1: Kevin Rudd', #18, #synthetic label 1, Kevin Rudd\n",
    "2:'Cluster 2: Climate change', # 24 #synthetic label 2 Climate change\n",
    "3:'Cluster 3: Indeginous people', #63 #synthetic label 3, Indeginous people\n",
    "4: 'Cluster 4: New cluster'}\n",
    "\n",
    "colour = {'1':'#abd9e9',\n",
    "'2':'#fdae61',\n",
    "'3': '#D2AB3C',\n",
    "'4': '#5ab4ac'}"
   ]
  },
  {
   "cell_type": "code",
   "execution_count": 38,
   "id": "a6f4e071-d2de-4aff-bcd9-f124525db074",
   "metadata": {},
   "outputs": [
    {
     "data": {
      "image/png": "[encoded data removed]",
      "text/plain": [
       "<Figure size 576x432 with 1 Axes>"
      ]
     },
     "metadata": {
      "needs_background": "light"
     },
     "output_type": "display_data"
    }
   ],
   "source": [
    "test = final[final.noise == False]\\\n",
    "[['sentence_id','time', 'text', 'synthetic_label', 'noise', 'new_labels']].drop_duplicates()\n",
    "test = test.groupby(['time', 'new_labels']).size().reset_index(name='l')\n",
    "test = test.sort_values(by=['new_labels'], key=lambda x: x.map(cluster_labels))\n",
    "\n",
    "fig, ax = plt.subplots(figsize=(8,6))\n",
    "for label in test.new_labels.unique():\n",
    "    ax.scatter(test[test.new_labels == label].time.tolist(), \n",
    "               test[test.new_labels == label].l.tolist(), \n",
    "               c=[colour[str(i)] for i in test[test.new_labels == label].new_labels.tolist()], \n",
    "               s=15, label=cluster_labels[label],\n",
    "               alpha=1, edgecolors='none')\n",
    "\n",
    "ax.legend(title='Topics', loc=1, prop={'size': 12}, \n",
    "          title_fontsize=15, markerscale=2, framealpha=0.5)\n",
    "ax.grid(False)\n",
    "ax.set_ylabel(\"No of sentences\", size=14)\n",
    "ax.set_xlabel(\"Time\", size=14)\n",
    "ax.grid(False)\n",
    "plt.show()\n",
    "fig.savefig('pics/test_clusters_timeseries_results_all_coref_text_without_noise.png', bbox_inches='tight')"
   ]
  },
  {
   "cell_type": "code",
   "execution_count": null,
   "id": "702826f7-541c-42b9-8483-b5dd81819b4d",
   "metadata": {},
   "outputs": [],
   "source": []
  }
 ],
 "metadata": {
  "kernelspec": {
   "display_name": "Python 3 (ipykernel)",
   "language": "python",
   "name": "python3"
  },
  "language_info": {
   "codemirror_mode": {
    "name": "ipython",
    "version": 3
   },
   "file_extension": ".py",
   "mimetype": "text/x-python",
   "name": "python",
   "nbconvert_exporter": "python",
   "pygments_lexer": "ipython3",
   "version": "3.9.5"
  }
 },
 "nbformat": 4,
 "nbformat_minor": 5
}
