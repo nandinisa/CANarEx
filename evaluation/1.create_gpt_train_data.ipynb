{
 "cells": [
  {
   "cell_type": "code",
   "execution_count": 1,
   "id": "b0ac6971-c3e5-4b38-a8ec-2e6b64f40cd5",
   "metadata": {},
   "outputs": [],
   "source": [
    "import numpy as np\n",
    "import pandas as pd\n",
    "import json\n",
    "import pickle\n",
    "import string"
   ]
  },
  {
   "cell_type": "code",
   "execution_count": 3,
   "id": "833effe2-225b-47ed-8065-3ffef8a0b9ba",
   "metadata": {},
   "outputs": [],
   "source": [
    "from sentence_transformers import SentenceTransformer, util\n",
    "import matplotlib.pyplot as plt\n",
    "import seaborn as sns\n",
    "from pathlib import Path"
   ]
  },
  {
   "cell_type": "markdown",
   "id": "4f593403-2c20-4171-8e85-e34efda58456",
   "metadata": {},
   "source": [
    "## Fine-tuning choose all factiva sentences"
   ]
  },
  {
   "cell_type": "code",
   "execution_count": 4,
   "id": "91a0701f-448f-4b3e-b691-041baea3bab6",
   "metadata": {},
   "outputs": [],
   "source": [
    "factiva_results_folder ='../data/factiva'\n",
    "gpt3_data_folder = 'gpt3_train'\n",
    "\n",
    "path = Path(gpt3_data_folder)\n",
    "path.mkdir(parents=True, exist_ok=True)"
   ]
  },
  {
   "cell_type": "code",
   "execution_count": 5,
   "id": "0759682d-6df4-4645-9a39-b70dda6aad95",
   "metadata": {},
   "outputs": [],
   "source": [
    "# create a temp folder for intermittent files \n",
    "path = Path('temp')\n",
    "path.mkdir(parents=True, exist_ok=True)"
   ]
  },
  {
   "cell_type": "markdown",
   "id": "d678eaca-679b-45d4-b734-4dc3d0b5167c",
   "metadata": {},
   "source": [
    "### Load original sentences generated from factiva dataset"
   ]
  },
  {
   "cell_type": "code",
   "execution_count": 6,
   "id": "e0160015-f5c0-4e18-a0f9-51735ded3bd0",
   "metadata": {},
   "outputs": [],
   "source": [
    "orig_sentences = pd.read_json('{}/temp/orig_sentences.jsonl'.format(factiva_results_folder),\n",
    "                              lines = True)\n",
    "orig_sentences = orig_sentences[['id', 'content']]\n",
    "orig_sentences = pd.concat([orig_sentences.drop(columns='content'),\n",
    "                             pd.DataFrame(orig_sentences.content.tolist())], axis = 1)\n",
    "orig_sentences = orig_sentences.explode(['sentences', 'sentences_idx']).reset_index(drop = True)\n",
    "orig_sentences.loc[:, 'sentence_id'] = orig_sentences.id + '_' + orig_sentences.sentences_idx.astype(str)\n",
    "orig_sentences = orig_sentences[['sentence_id', 'sentences']].rename(columns = {'sentences':'true_text'})"
   ]
  },
  {
   "cell_type": "code",
   "execution_count": null,
   "id": "f95b8fe0-f6da-4eed-9ce2-d3c50dd56908",
   "metadata": {},
   "outputs": [],
   "source": [
    "orig_sentences.head(2)"
   ]
  },
  {
   "cell_type": "code",
   "execution_count": 7,
   "id": "aa259ff7-00b8-4878-be4d-41febae14717",
   "metadata": {},
   "outputs": [
    {
     "data": {
      "text/plain": [
       "(461180, 2)"
      ]
     },
     "execution_count": 7,
     "metadata": {},
     "output_type": "execute_result"
    }
   ],
   "source": [
    "orig_sentences.shape"
   ]
  },
  {
   "cell_type": "markdown",
   "id": "6ab39287-fe0d-4e53-8e0a-17aef8bfc2c1",
   "metadata": {},
   "source": [
    "### Load co-referenced data generated from factiva dataset"
   ]
  },
  {
   "cell_type": "code",
   "execution_count": 8,
   "id": "65b41e94-1cd9-4200-9ebb-875b40f88965",
   "metadata": {},
   "outputs": [],
   "source": [
    "coref_sentences = json.load(open('{}/temp/coref_sentences.json'.format(factiva_results_folder), 'r'))\n",
    "coref_sentences = pd.DataFrame({'sentence_id': coref_sentences[0], 'text': coref_sentences[1]})"
   ]
  },
  {
   "cell_type": "code",
   "execution_count": 9,
   "id": "a54a97ae-1b78-4ed5-8fd4-b8619e3227b3",
   "metadata": {},
   "outputs": [
    {
     "data": {
      "text/plain": [
       "(455962, 2)"
      ]
     },
     "execution_count": 9,
     "metadata": {},
     "output_type": "execute_result"
    }
   ],
   "source": [
    "coref_sentences.shape"
   ]
  },
  {
   "cell_type": "code",
   "execution_count": 10,
   "id": "ac7c09a0-e7e6-474a-9bb8-f6be8b5b381e",
   "metadata": {},
   "outputs": [],
   "source": [
    "df = pd.merge(orig_sentences, coref_sentences)"
   ]
  },
  {
   "cell_type": "code",
   "execution_count": null,
   "id": "4062f7fc-ab34-4246-a5f6-eac1ef59ba5a",
   "metadata": {},
   "outputs": [],
   "source": [
    "df.head(2)"
   ]
  },
  {
   "cell_type": "code",
   "execution_count": 11,
   "id": "3a85970f-63a9-44e0-acf5-2a70410e95ea",
   "metadata": {},
   "outputs": [
    {
     "data": {
      "text/plain": [
       "(455962, 3)"
      ]
     },
     "execution_count": 11,
     "metadata": {},
     "output_type": "execute_result"
    }
   ],
   "source": [
    "df.shape"
   ]
  },
  {
   "cell_type": "code",
   "execution_count": 12,
   "id": "9cce1f2c-2480-4579-a8d7-1a91d0e46aeb",
   "metadata": {},
   "outputs": [],
   "source": [
    "# group by original text and pick top 1 to filter out duplicate texts\n",
    "# https://stackoverflow.com/questions/34293875/how-to-remove-punctuation-marks-from-a-string-in-python-3-x-using-translate\n",
    "df.loc[:, 'text_lo'] = df.true_text.str.translate(str.maketrans('', '', string.punctuation))\n",
    "df.loc[:, 'text_lo'] = df.text_lo.\\\n",
    "    apply(lambda x: ' '.join([i.lower() for i in x.split() if i.isalpha()]))\n",
    "df = df.groupby(['text_lo']).head(1).\\\n",
    "    reset_index(drop = True).\\\n",
    "    drop(columns=['text_lo'])"
   ]
  },
  {
   "cell_type": "code",
   "execution_count": 13,
   "id": "721daaf6-c4dc-4fa2-bc8f-111e16340009",
   "metadata": {},
   "outputs": [
    {
     "data": {
      "text/plain": [
       "0.7012488015000732"
      ]
     },
     "execution_count": 13,
     "metadata": {},
     "output_type": "execute_result"
    }
   ],
   "source": [
    "# co-referenced text different from original text\n",
    "df[df.true_text != df.text].shape[0]/df.shape[0]"
   ]
  },
  {
   "cell_type": "code",
   "execution_count": 14,
   "id": "a11bb6b8-97a3-4c71-8991-b488e0229ca0",
   "metadata": {},
   "outputs": [
    {
     "data": {
      "text/plain": [
       "0.2987511984999268"
      ]
     },
     "execution_count": 14,
     "metadata": {},
     "output_type": "execute_result"
    }
   ],
   "source": [
    "# co-referenced text same as original text\n",
    "df[df.true_text == df.text].shape[0]/df.shape[0]"
   ]
  },
  {
   "cell_type": "code",
   "execution_count": 15,
   "id": "a662103e-9d24-4811-b67d-2b15bbcaa850",
   "metadata": {},
   "outputs": [
    {
     "data": {
      "text/plain": [
       "296941"
      ]
     },
     "execution_count": 15,
     "metadata": {},
     "output_type": "execute_result"
    }
   ],
   "source": [
    "df[df.true_text != df.text].shape[0]"
   ]
  },
  {
   "cell_type": "code",
   "execution_count": 16,
   "id": "3f26609a-77d5-41cb-8660-280fc6d363bd",
   "metadata": {},
   "outputs": [
    {
     "data": {
      "text/plain": [
       "126505"
      ]
     },
     "execution_count": 16,
     "metadata": {},
     "output_type": "execute_result"
    }
   ],
   "source": [
    "df[df.true_text == df.text].shape[0]"
   ]
  },
  {
   "cell_type": "markdown",
   "id": "259d00c8-481c-47d4-adda-c9296c25c969",
   "metadata": {},
   "source": [
    "### Create embeddings"
   ]
  },
  {
   "cell_type": "code",
   "execution_count": 21,
   "id": "7fbe002d-701e-4c89-b6d9-923b8d7ee51c",
   "metadata": {},
   "outputs": [],
   "source": [
    "def get_embeddings(data, model_name='all-MiniLM-L6-v2', device='cuda', convert=False):\n",
    "    smodel = SentenceTransformer(model_name, device=device)\n",
    "    embeddings = smodel.encode(data, batch_size=64, show_progress_bar=True, convert_to_tensor=convert)\n",
    "    return(embeddings)"
   ]
  },
  {
   "cell_type": "code",
   "execution_count": 22,
   "id": "f9d18cd9-adc9-452c-a665-e855d1aee86d",
   "metadata": {
    "tags": []
   },
   "outputs": [
    {
     "data": {
      "application/vnd.jupyter.widget-view+json": {
       "model_id": "fd8f9a87f813435b8a639e947974aa0e",
       "version_major": 2,
       "version_minor": 0
      },
      "text/plain": [
       "Batches:   0%|          | 0/1977 [00:00<?, ?it/s]"
      ]
     },
     "metadata": {},
     "output_type": "display_data"
    }
   ],
   "source": [
    "# Sentences that have no changes b/w original and coref sentences\n",
    "# to train GPT-3\n",
    "df = df[df.true_text == df.text].reset_index(drop = True)\n",
    "sents = df.true_text.tolist()\n",
    "\n",
    "# all-MiniLM-L6-v2 all-distilroberta-v1\n",
    "embeddings = get_embeddings(sents, model_name='all-MiniLM-L6-v2', device='cuda', convert=False)\n",
    "\n",
    "pickle.dump(embeddings, \n",
    "            open('temp/sents_minus_coref_embedding_minilm.pk',\n",
    "                             'wb'))"
   ]
  },
  {
   "cell_type": "markdown",
   "id": "357f7976-6358-4c26-9073-f57c56b10f67",
   "metadata": {},
   "source": [
    "### Paraphrase mining for sentence similarity"
   ]
  },
  {
   "cell_type": "code",
   "execution_count": 24,
   "id": "0ee8827a-27d7-420f-bf93-9210efde3640",
   "metadata": {},
   "outputs": [],
   "source": [
    "# :param embeddings: A tensor with the embeddings\n",
    "# :param query_chunk_size: Search for most similar pairs for #query_chunk_size at the same time. \n",
    "# Decrease, to lower memory footprint (increases run-time).\n",
    "# :param corpus_chunk_size: Compare a sentence simultaneously against \n",
    " #corpus_chunk_size other sentences. Decrease, to lower memory footprint (increases run-time).\n",
    "# :param max_pairs: Maximal number of text pairs returned.\n",
    "# :param top_k: For each sentence, we retrieve up to top_k other sentences\n",
    "# :param score_function: Function for computing scores. By default, cosine similarity.\n",
    "# :return: Returns a list of triplets with the format [score, id1, id2]\n"
   ]
  },
  {
   "cell_type": "code",
   "execution_count": 120,
   "id": "6dd2e5f8-d80e-427d-a370-aae41371af56",
   "metadata": {},
   "outputs": [],
   "source": [
    "result = util.paraphrase_mining_embeddings(embeddings,\n",
    "                                  query_chunk_size= 5000,\n",
    "                                  corpus_chunk_size = 10000,\n",
    "                                  max_pairs = 500000,\n",
    "                                  top_k = 1000)\n",
    "result = pd.DataFrame(result)\n",
    "result.columns = ['score', 'idx1', 'idx2']\n",
    "result.to_pickle('temp/sents_minus_coref_embedding_mining_result.pk')"
   ]
  },
  {
   "cell_type": "markdown",
   "id": "66ef5a15-fbca-4dbd-9d9d-de797ff36328",
   "metadata": {},
   "source": [
    "## Evaluate mining result"
   ]
  },
  {
   "cell_type": "code",
   "execution_count": 31,
   "id": "231c5f6d-ec88-475f-b553-3db3e1d5691f",
   "metadata": {},
   "outputs": [],
   "source": [
    "# create linked statements\n",
    "# combine similar sentences: id1 ~ id2, id2 ~ id4, id2 ~ id5\n",
    "# then result: id1: [id2, id4, id5]\n",
    "def get_dependency_sentences(similar_list):\n",
    "    forest = {}\n",
    "    already_seen = {}\n",
    "    for similar_tuple in similar_list:\n",
    "        parent_id, id = similar_tuple\n",
    "        if parent_id in forest.keys():\n",
    "            forest[parent_id].append(id)\n",
    "            already_seen[id] = parent_id\n",
    "        elif parent_id in already_seen.keys():\n",
    "            forest[already_seen[parent_id]].append(id)\n",
    "            already_seen[id] = already_seen[parent_id]\n",
    "        elif id in already_seen.keys():\n",
    "            forest[already_seen[id]].append(parent_id)\n",
    "            already_seen[parent_id] = already_seen[id]\n",
    "        else:\n",
    "            forest[parent_id] = []\n",
    "            forest[parent_id].append(id)\n",
    "            already_seen[id] = parent_id\n",
    "    return forest\n"
   ]
  },
  {
   "cell_type": "markdown",
   "id": "0f2a6a57-016c-402f-9689-5af1e6d90933",
   "metadata": {},
   "source": [
    "### Combine all linked (similar) sentences"
   ]
  },
  {
   "cell_type": "code",
   "execution_count": 26,
   "id": "5b5a285c-e4e1-4552-898f-1fb368bc390d",
   "metadata": {},
   "outputs": [],
   "source": [
    "# read results from paraphrase mining\n",
    "result = pd.read_pickle('temp/sents_minus_coref_embedding_mining_result.pk')\n",
    "\n",
    "# set a minimal threshold \n",
    "# remove 0.99 and 1 as they are very similar sentences with minor differences with added comma, a/an etc.\n",
    "result = result[result.score < 0.99]\n",
    "result = result[result.score >= 0.75]\n",
    "\n",
    "# sort the indexes row wise so that idx1 always has the minimum index\n",
    "similar = result[['idx1', 'idx2']]\n",
    "similar.loc[:, 'idx1_sorted'] = similar[['idx1','idx2']].min(axis=1)\n",
    "similar.loc[:, 'idx2_sorted'] = similar[['idx1','idx2']].max(axis=1)\n",
    "\n",
    "# sort the indexes column wise so you have similar indexes together\n",
    "similar = similar.sort_values(['idx1_sorted', 'idx2_sorted']).reset_index()\n",
    "# get a list of tuples of similar indexes\n",
    "similar = similar[['idx1_sorted','idx2_sorted']].apply(tuple, axis=1).tolist()\n",
    "\n",
    "# merge the indexes with their respective sentence ids\n",
    "result.loc[:, 'id1'] = df.loc[result.idx1, 'sentence_id'].tolist()\n",
    "result.loc[:, 'id2'] = df.loc[result.idx2, 'sentence_id'].tolist()\n",
    "result.loc[:, 'combined_id'] = result['id1'] +'-'+ result['id2']\n",
    "result.loc[:, 'combined_id'] = result['combined_id'].apply(lambda x: '-'.join(np.sort(x.split('-'))))"
   ]
  },
  {
   "cell_type": "code",
   "execution_count": 29,
   "id": "476516a9-4be9-4eac-902b-ee613e0b08e7",
   "metadata": {},
   "outputs": [
    {
     "data": {
      "text/plain": [
       "[(15, 81075), (20, 82507)]"
      ]
     },
     "execution_count": 29,
     "metadata": {},
     "output_type": "execute_result"
    }
   ],
   "source": [
    "similar[0:2]"
   ]
  },
  {
   "cell_type": "code",
   "execution_count": 30,
   "id": "9ec44d4f-ca0b-49dd-9ec2-90653fc2e058",
   "metadata": {},
   "outputs": [
    {
     "data": {
      "text/html": [
       "<div>\n",
       "<style scoped>\n",
       "    .dataframe tbody tr th:only-of-type {\n",
       "        vertical-align: middle;\n",
       "    }\n",
       "\n",
       "    .dataframe tbody tr th {\n",
       "        vertical-align: top;\n",
       "    }\n",
       "\n",
       "    .dataframe thead th {\n",
       "        text-align: right;\n",
       "    }\n",
       "</style>\n",
       "<table border=\"1\" class=\"dataframe\">\n",
       "  <thead>\n",
       "    <tr style=\"text-align: right;\">\n",
       "      <th></th>\n",
       "      <th>score</th>\n",
       "      <th>idx1</th>\n",
       "      <th>idx2</th>\n",
       "      <th>id1</th>\n",
       "      <th>id2</th>\n",
       "      <th>combined_id</th>\n",
       "    </tr>\n",
       "  </thead>\n",
       "  <tbody>\n",
       "    <tr>\n",
       "      <th>372</th>\n",
       "      <td>0.989923</td>\n",
       "      <td>10825</td>\n",
       "      <td>113886</td>\n",
       "      <td>ad84b6c2-7ff0-400c-b1b4-b2946ae9564f_29</td>\n",
       "      <td>86650d6c-02bb-4d68-919b-996125f14493_29</td>\n",
       "      <td>02bb-400c-4d68-7ff0-86650d6c-919b-996125f14493...</td>\n",
       "    </tr>\n",
       "    <tr>\n",
       "      <th>373</th>\n",
       "      <td>0.989896</td>\n",
       "      <td>35617</td>\n",
       "      <td>53336</td>\n",
       "      <td>e64a346b-a8a5-4c25-8f7a-7fec8ba5fd77_45</td>\n",
       "      <td>87acec23-519d-4893-a040-fb66ea6b098c_45</td>\n",
       "      <td>4893-4c25-519d-7fec8ba5fd77_45-87acec23-8f7a-a...</td>\n",
       "    </tr>\n",
       "  </tbody>\n",
       "</table>\n",
       "</div>"
      ],
      "text/plain": [
       "        score   idx1    idx2                                      id1  \\\n",
       "372  0.989923  10825  113886  ad84b6c2-7ff0-400c-b1b4-b2946ae9564f_29   \n",
       "373  0.989896  35617   53336  e64a346b-a8a5-4c25-8f7a-7fec8ba5fd77_45   \n",
       "\n",
       "                                         id2  \\\n",
       "372  86650d6c-02bb-4d68-919b-996125f14493_29   \n",
       "373  87acec23-519d-4893-a040-fb66ea6b098c_45   \n",
       "\n",
       "                                           combined_id  \n",
       "372  02bb-400c-4d68-7ff0-86650d6c-919b-996125f14493...  \n",
       "373  4893-4c25-519d-7fec8ba5fd77_45-87acec23-8f7a-a...  "
      ]
     },
     "execution_count": 30,
     "metadata": {},
     "output_type": "execute_result"
    }
   ],
   "source": [
    "result.head(2)"
   ]
  },
  {
   "cell_type": "code",
   "execution_count": 32,
   "id": "20110d3c-1287-48f2-b176-a76a78b268ee",
   "metadata": {},
   "outputs": [],
   "source": [
    "# combine similar sentences: id1 ~ id2, id2 ~ id4\n",
    "# then result: id1: [id2, id4]\n",
    "forest = get_dependency_sentences(similar)"
   ]
  },
  {
   "cell_type": "code",
   "execution_count": 40,
   "id": "91aabfe5-4080-4172-82bf-7154e5ecd4ea",
   "metadata": {},
   "outputs": [
    {
     "name": "stdout",
     "output_type": "stream",
     "text": [
      "15: [81075]\n",
      "20: [82507]\n",
      "40: [37570]\n",
      "52: [53]\n",
      "64: [14159]\n",
      "88: [118017]\n"
     ]
    }
   ],
   "source": [
    "# print combined ids\n",
    "for i, (k, v) in enumerate(forest.items()):\n",
    "    print('{}: {}'.format(k, v))\n",
    "    \n",
    "    if i == 5:\n",
    "        break"
   ]
  },
  {
   "cell_type": "code",
   "execution_count": 41,
   "id": "2618d0c8-5bf5-4d1b-bd54-bd9737ee8a69",
   "metadata": {},
   "outputs": [],
   "source": [
    "# merge sentence ids\n",
    "forest_sents = []\n",
    "for key, val in forest.items():\n",
    "    val = list(set(val))\n",
    "    forest_sents.append({'main_sent':sents[key],\n",
    "                         'main_id':df.loc[key].sentence_id, \n",
    "                         'matching_sent': [sents[v] for v in val],\n",
    "                         'matching_id': [df.loc[v].sentence_id for v in val],})"
   ]
  },
  {
   "cell_type": "code",
   "execution_count": 42,
   "id": "b0c3a4de-d9a4-4bfa-bca5-55f5a5e1f2a9",
   "metadata": {},
   "outputs": [],
   "source": [
    "forest_sents=pd.DataFrame(forest_sents)\n",
    "forest_sents = forest_sents.explode(['matching_sent', 'matching_id']).reset_index(drop = True)\n",
    "# forest_sents['seq'] = list(range(0, forest_sents.shape[0]))"
   ]
  },
  {
   "cell_type": "code",
   "execution_count": 43,
   "id": "ca7b5fb5-9163-4b52-a0cf-4576a70e1aff",
   "metadata": {},
   "outputs": [
    {
     "data": {
      "text/html": [
       "<div>\n",
       "<style scoped>\n",
       "    .dataframe tbody tr th:only-of-type {\n",
       "        vertical-align: middle;\n",
       "    }\n",
       "\n",
       "    .dataframe tbody tr th {\n",
       "        vertical-align: top;\n",
       "    }\n",
       "\n",
       "    .dataframe thead th {\n",
       "        text-align: right;\n",
       "    }\n",
       "</style>\n",
       "<table border=\"1\" class=\"dataframe\">\n",
       "  <thead>\n",
       "    <tr style=\"text-align: right;\">\n",
       "      <th></th>\n",
       "      <th>main_sent</th>\n",
       "      <th>main_id</th>\n",
       "      <th>matching_sent</th>\n",
       "      <th>matching_id</th>\n",
       "    </tr>\n",
       "  </thead>\n",
       "  <tbody>\n",
       "    <tr>\n",
       "      <th>0</th>\n",
       "      <td>Culture matters.</td>\n",
       "      <td>8709d620-8152-47fe-86cd-df3035156d71_35</td>\n",
       "      <td>Culture counts.</td>\n",
       "      <td>de246161-7166-4d06-96e5-f36c93014308_46</td>\n",
       "    </tr>\n",
       "    <tr>\n",
       "      <th>1</th>\n",
       "      <td>Highest standards</td>\n",
       "      <td>42c90996-c3c9-44dd-9c45-aa6ed9c4839b_7</td>\n",
       "      <td>Different standards</td>\n",
       "      <td>7e52273b-e3d2-451f-bfb2-e453fa8d6ee3_20</td>\n",
       "    </tr>\n",
       "  </tbody>\n",
       "</table>\n",
       "</div>"
      ],
      "text/plain": [
       "           main_sent                                  main_id  \\\n",
       "0   Culture matters.  8709d620-8152-47fe-86cd-df3035156d71_35   \n",
       "1  Highest standards   42c90996-c3c9-44dd-9c45-aa6ed9c4839b_7   \n",
       "\n",
       "         matching_sent                              matching_id  \n",
       "0      Culture counts.  de246161-7166-4d06-96e5-f36c93014308_46  \n",
       "1  Different standards  7e52273b-e3d2-451f-bfb2-e453fa8d6ee3_20  "
      ]
     },
     "execution_count": 43,
     "metadata": {},
     "output_type": "execute_result"
    }
   ],
   "source": [
    "forest_sents.head(2)"
   ]
  },
  {
   "cell_type": "markdown",
   "id": "6482e30e-2cf2-4aea-8989-88961af4ebc4",
   "metadata": {
    "tags": []
   },
   "source": [
    "### Merging cluster labels and similarity scores to similar sentences"
   ]
  },
  {
   "cell_type": "code",
   "execution_count": 44,
   "id": "3f11e9ec-1bb0-4baf-8364-ad0d851b1eed",
   "metadata": {},
   "outputs": [
    {
     "data": {
      "text/plain": [
       "(15702, 4)"
      ]
     },
     "execution_count": 44,
     "metadata": {},
     "output_type": "execute_result"
    }
   ],
   "source": [
    "forest_sents.shape"
   ]
  },
  {
   "cell_type": "code",
   "execution_count": 45,
   "id": "c8f9274d-41a8-430a-a094-63f4ec934576",
   "metadata": {},
   "outputs": [],
   "source": [
    "similar_df = forest_sents.copy()\n",
    "similar_df.loc[:, 'combined_id'] = similar_df['main_id'] +'-'+ similar_df['matching_id']\n",
    "similar_df.loc[:, 'combined_id'] = similar_df['combined_id'].apply(lambda x: '-'.join(np.sort(x.split('-'))))"
   ]
  },
  {
   "cell_type": "code",
   "execution_count": 46,
   "id": "fb528366-d844-441f-a8aa-d2062bb7257e",
   "metadata": {},
   "outputs": [],
   "source": [
    "similar_df = pd.merge(similar_df, result[['score', 'combined_id']], on='combined_id')"
   ]
  },
  {
   "cell_type": "code",
   "execution_count": 47,
   "id": "75ae07e7-65b0-47e1-b13b-f1567aaae44d",
   "metadata": {},
   "outputs": [],
   "source": [
    "similar_df = similar_df.drop(columns = 'combined_id').reset_index(drop = True)"
   ]
  },
  {
   "cell_type": "code",
   "execution_count": 48,
   "id": "4e7d97b8-8396-4028-84ce-e26aaa9a3983",
   "metadata": {},
   "outputs": [],
   "source": [
    "similar_df.to_pickle('temp/similar_sentences_minus_coref_df.pkl')"
   ]
  },
  {
   "cell_type": "markdown",
   "id": "6e1c2f10-1912-429c-ab96-a46b6161058b",
   "metadata": {},
   "source": [
    "### Evaluate similar sentences"
   ]
  },
  {
   "cell_type": "code",
   "execution_count": 49,
   "id": "eff7bacb-d7e2-4a1d-a7cf-1d4e0b472e1e",
   "metadata": {},
   "outputs": [],
   "source": [
    "similar_df = pd.read_pickle('temp/similar_sentences_minus_coref_df.pkl')"
   ]
  },
  {
   "cell_type": "code",
   "execution_count": 50,
   "id": "ec35787a-8572-452d-802b-753a7d8808d3",
   "metadata": {},
   "outputs": [],
   "source": [
    "similar_df = similar_df.sort_values('score', ascending = False)"
   ]
  },
  {
   "cell_type": "code",
   "execution_count": 51,
   "id": "4aaef078-afe1-4d1c-bb2b-0a04ade8a162",
   "metadata": {},
   "outputs": [
    {
     "data": {
      "text/plain": [
       "<AxesSubplot:>"
      ]
     },
     "execution_count": 51,
     "metadata": {},
     "output_type": "execute_result"
    },
    {
     "data": {
      "image/png": "[encoded data removed]",
      "text/plain": [
       "<Figure size 432x288 with 1 Axes>"
      ]
     },
     "metadata": {
      "needs_background": "light"
     },
     "output_type": "display_data"
    }
   ],
   "source": [
    "similar_df.score.hist()"
   ]
  },
  {
   "cell_type": "markdown",
   "id": "dbe548c5-e49b-4136-83d8-d0c2a30980e9",
   "metadata": {},
   "source": [
    "### Create train data"
   ]
  },
  {
   "cell_type": "code",
   "execution_count": 52,
   "id": "3b004b67-901d-49b6-bdae-f66fe4374038",
   "metadata": {},
   "outputs": [],
   "source": [
    "train = similar_df.copy()\n",
    "train['val1'] = train.main_sent.str.split(' ').apply(set)\n",
    "train['val2'] = train.matching_sent.str.split(' ').apply(set)\n",
    "# get unique words between sentences\n",
    "train['diff1'] = train.val1 - train.val2\n",
    "train['diff2'] = train.val2 - train.val1\n",
    "train['l1'] = train.val1.apply(len)\n",
    "# filter for sentences greater than length 5 \n",
    "train = train[train.l1 > 5]\n",
    "train = train.drop(columns=['val1', 'val2', 'l1'])\n",
    "train['len1'] = train.diff1.apply(len)\n",
    "train['len2'] = train.diff2.apply(len)\n",
    "train['sample_len'] = train[['len1', 'len2']].max(axis = 1)"
   ]
  },
  {
   "cell_type": "code",
   "execution_count": 53,
   "id": "72e2e6c1-50a7-4e67-bbd2-b2510cc619fc",
   "metadata": {},
   "outputs": [
    {
     "data": {
      "text/plain": [
       "array([[<AxesSubplot:title={'center':'score'}>,\n",
       "        <AxesSubplot:title={'center':'len1'}>],\n",
       "       [<AxesSubplot:title={'center':'len2'}>,\n",
       "        <AxesSubplot:title={'center':'sample_len'}>]], dtype=object)"
      ]
     },
     "execution_count": 53,
     "metadata": {},
     "output_type": "execute_result"
    },
    {
     "data": {
      "image/png": "[encoded data removed]",
      "text/plain": [
       "<Figure size 432x288 with 4 Axes>"
      ]
     },
     "metadata": {
      "needs_background": "light"
     },
     "output_type": "display_data"
    }
   ],
   "source": [
    "train.hist()"
   ]
  },
  {
   "cell_type": "code",
   "execution_count": 54,
   "id": "2b6e2e27-b2d0-4396-96d0-862b4e7e0ceb",
   "metadata": {},
   "outputs": [
    {
     "data": {
      "text/plain": [
       "<matplotlib.collections.PathCollection at 0x7f354e8aba60>"
      ]
     },
     "execution_count": 54,
     "metadata": {},
     "output_type": "execute_result"
    },
    {
     "data": {
      "image/png": "[encoded data removed]",
      "text/plain": [
       "<Figure size 432x288 with 1 Axes>"
      ]
     },
     "metadata": {
      "needs_background": "light"
     },
     "output_type": "display_data"
    }
   ],
   "source": [
    "# similarity score v/s length of sentences\n",
    "plt.scatter(train.sample_len, train.score)"
   ]
  },
  {
   "cell_type": "code",
   "execution_count": 55,
   "id": "31985cdf-5ce9-48b0-b04f-8b9f2cd44d98",
   "metadata": {},
   "outputs": [
    {
     "data": {
      "text/html": [
       "<div>\n",
       "<style scoped>\n",
       "    .dataframe tbody tr th:only-of-type {\n",
       "        vertical-align: middle;\n",
       "    }\n",
       "\n",
       "    .dataframe tbody tr th {\n",
       "        vertical-align: top;\n",
       "    }\n",
       "\n",
       "    .dataframe thead th {\n",
       "        text-align: right;\n",
       "    }\n",
       "</style>\n",
       "<table border=\"1\" class=\"dataframe\">\n",
       "  <thead>\n",
       "    <tr style=\"text-align: right;\">\n",
       "      <th></th>\n",
       "      <th>diff1</th>\n",
       "      <th>diff2</th>\n",
       "      <th>score</th>\n",
       "      <th>len1</th>\n",
       "      <th>len2</th>\n",
       "    </tr>\n",
       "  </thead>\n",
       "  <tbody>\n",
       "    <tr>\n",
       "      <th>2841</th>\n",
       "      <td>{is, not}</td>\n",
       "      <td>{isn't}</td>\n",
       "      <td>0.989923</td>\n",
       "      <td>2</td>\n",
       "      <td>1</td>\n",
       "    </tr>\n",
       "    <tr>\n",
       "      <th>6413</th>\n",
       "      <td>{This, month,}</td>\n",
       "      <td>{this, month, Earlier}</td>\n",
       "      <td>0.989896</td>\n",
       "      <td>2</td>\n",
       "      <td>3</td>\n",
       "    </tr>\n",
       "    <tr>\n",
       "      <th>653</th>\n",
       "      <td>{prolific, women}</td>\n",
       "      <td>{women,}</td>\n",
       "      <td>0.989889</td>\n",
       "      <td>2</td>\n",
       "      <td>1</td>\n",
       "    </tr>\n",
       "    <tr>\n",
       "      <th>606</th>\n",
       "      <td>{way}</td>\n",
       "      <td>{}</td>\n",
       "      <td>0.989788</td>\n",
       "      <td>1</td>\n",
       "      <td>0</td>\n",
       "    </tr>\n",
       "    <tr>\n",
       "      <th>7761</th>\n",
       "      <td>{governing}</td>\n",
       "      <td>{on}</td>\n",
       "      <td>0.989516</td>\n",
       "      <td>1</td>\n",
       "      <td>1</td>\n",
       "    </tr>\n",
       "  </tbody>\n",
       "</table>\n",
       "</div>"
      ],
      "text/plain": [
       "                  diff1                   diff2     score  len1  len2\n",
       "2841          {is, not}                 {isn't}  0.989923     2     1\n",
       "6413     {This, month,}  {this, month, Earlier}  0.989896     2     3\n",
       "653   {prolific, women}                {women,}  0.989889     2     1\n",
       "606               {way}                      {}  0.989788     1     0\n",
       "7761        {governing}                    {on}  0.989516     1     1"
      ]
     },
     "execution_count": 55,
     "metadata": {},
     "output_type": "execute_result"
    }
   ],
   "source": [
    "# get the different words between similar sentences\n",
    "train[train.len1<=10][['diff1', 'diff2', 'score', 'len1', 'len2']].head(5)"
   ]
  },
  {
   "cell_type": "code",
   "execution_count": 57,
   "id": "ecba85ea-3a93-4026-8524-59cb5ea64273",
   "metadata": {},
   "outputs": [
    {
     "data": {
      "text/html": [
       "<div>\n",
       "<style scoped>\n",
       "    .dataframe tbody tr th:only-of-type {\n",
       "        vertical-align: middle;\n",
       "    }\n",
       "\n",
       "    .dataframe tbody tr th {\n",
       "        vertical-align: top;\n",
       "    }\n",
       "\n",
       "    .dataframe thead th {\n",
       "        text-align: right;\n",
       "    }\n",
       "</style>\n",
       "<table border=\"1\" class=\"dataframe\">\n",
       "  <thead>\n",
       "    <tr style=\"text-align: right;\">\n",
       "      <th></th>\n",
       "      <th>main_id</th>\n",
       "      <th>matching_id</th>\n",
       "      <th>score</th>\n",
       "      <th>diff1</th>\n",
       "      <th>diff2</th>\n",
       "      <th>len1</th>\n",
       "      <th>len2</th>\n",
       "      <th>sample_len</th>\n",
       "    </tr>\n",
       "  </thead>\n",
       "  <tbody>\n",
       "    <tr>\n",
       "      <th>2841</th>\n",
       "      <td>ad84b6c2-7ff0-400c-b1b4-b2946ae9564f_29</td>\n",
       "      <td>86650d6c-02bb-4d68-919b-996125f14493_29</td>\n",
       "      <td>0.989923</td>\n",
       "      <td>{is, not}</td>\n",
       "      <td>{isn't}</td>\n",
       "      <td>2</td>\n",
       "      <td>1</td>\n",
       "      <td>2</td>\n",
       "    </tr>\n",
       "    <tr>\n",
       "      <th>6413</th>\n",
       "      <td>e64a346b-a8a5-4c25-8f7a-7fec8ba5fd77_45</td>\n",
       "      <td>87acec23-519d-4893-a040-fb66ea6b098c_45</td>\n",
       "      <td>0.989896</td>\n",
       "      <td>{This, month,}</td>\n",
       "      <td>{this, month, Earlier}</td>\n",
       "      <td>2</td>\n",
       "      <td>3</td>\n",
       "      <td>3</td>\n",
       "    </tr>\n",
       "  </tbody>\n",
       "</table>\n",
       "</div>"
      ],
      "text/plain": [
       "                                      main_id  \\\n",
       "2841  ad84b6c2-7ff0-400c-b1b4-b2946ae9564f_29   \n",
       "6413  e64a346b-a8a5-4c25-8f7a-7fec8ba5fd77_45   \n",
       "\n",
       "                                  matching_id     score           diff1  \\\n",
       "2841  86650d6c-02bb-4d68-919b-996125f14493_29  0.989923       {is, not}   \n",
       "6413  87acec23-519d-4893-a040-fb66ea6b098c_45  0.989896  {This, month,}   \n",
       "\n",
       "                       diff2  len1  len2  sample_len  \n",
       "2841                 {isn't}     2     1           2  \n",
       "6413  {this, month, Earlier}     2     3           3  "
      ]
     },
     "execution_count": 57,
     "metadata": {},
     "output_type": "execute_result"
    }
   ],
   "source": [
    "## not printing sentences\n",
    "train.drop(columns=['main_sent', 'matching_sent']).head(2)"
   ]
  },
  {
   "cell_type": "code",
   "execution_count": 58,
   "id": "b6d98eb6-ae19-4be2-a580-9b8e03380979",
   "metadata": {},
   "outputs": [
    {
     "data": {
      "text/plain": [
       "'Or can art objects that have legally moved from one part of the world to another be viewed as cultural ambassadors that promote understanding between people?'"
      ]
     },
     "execution_count": 58,
     "metadata": {},
     "output_type": "execute_result"
    }
   ],
   "source": [
    "idx=10\n",
    "train.iloc[idx].main_sent"
   ]
  },
  {
   "cell_type": "code",
   "execution_count": 59,
   "id": "929e0528-6f62-44d4-8940-68d077c8dd58",
   "metadata": {},
   "outputs": [
    {
     "data": {
      "text/plain": [
       "'Or can it be argued that art objects that have legally moved from one part of the world to another can be viewed as cultural ambassadors that promote understanding between people?'"
      ]
     },
     "execution_count": 59,
     "metadata": {},
     "output_type": "execute_result"
    }
   ],
   "source": [
    "train.iloc[idx].matching_sent"
   ]
  },
  {
   "cell_type": "markdown",
   "id": "90d24228-1410-4740-a514-586ec7b34db0",
   "metadata": {},
   "source": [
    "### Create GPT-3 train dataset"
   ]
  },
  {
   "cell_type": "code",
   "execution_count": 60,
   "id": "edaf7a3f-c06a-48a7-8858-e22a6d99e8e6",
   "metadata": {},
   "outputs": [],
   "source": [
    "train_ids = train[['main_sent','main_id', 'matching_sent','matching_id']].\\\n",
    "        drop_duplicates().\\\n",
    "        reset_index(drop = True)"
   ]
  },
  {
   "cell_type": "code",
   "execution_count": 62,
   "id": "6d1bab4c-8746-4232-8d16-9e2d4d4ab75a",
   "metadata": {},
   "outputs": [
    {
     "data": {
      "text/html": [
       "<div>\n",
       "<style scoped>\n",
       "    .dataframe tbody tr th:only-of-type {\n",
       "        vertical-align: middle;\n",
       "    }\n",
       "\n",
       "    .dataframe tbody tr th {\n",
       "        vertical-align: top;\n",
       "    }\n",
       "\n",
       "    .dataframe thead th {\n",
       "        text-align: right;\n",
       "    }\n",
       "</style>\n",
       "<table border=\"1\" class=\"dataframe\">\n",
       "  <thead>\n",
       "    <tr style=\"text-align: right;\">\n",
       "      <th></th>\n",
       "      <th>main_sent</th>\n",
       "      <th>main_id</th>\n",
       "      <th>matching_sent</th>\n",
       "      <th>matching_id</th>\n",
       "    </tr>\n",
       "  </thead>\n",
       "  <tbody>\n",
       "  </tbody>\n",
       "</table>\n",
       "</div>"
      ],
      "text/plain": [
       "Empty DataFrame\n",
       "Columns: [main_sent, main_id, matching_sent, matching_id]\n",
       "Index: []"
      ]
     },
     "execution_count": 62,
     "metadata": {},
     "output_type": "execute_result"
    }
   ],
   "source": [
    "train_ids.head(0) # not printing sentences"
   ]
  },
  {
   "cell_type": "code",
   "execution_count": 63,
   "id": "be29d376-486f-444b-80d8-636652ae7ac7",
   "metadata": {},
   "outputs": [
    {
     "data": {
      "text/plain": [
       "(4961, 4)"
      ]
     },
     "execution_count": 63,
     "metadata": {},
     "output_type": "execute_result"
    }
   ],
   "source": [
    "train_ids.shape"
   ]
  },
  {
   "cell_type": "code",
   "execution_count": 64,
   "id": "49879cd8-c44e-4028-8790-ce4a432609d0",
   "metadata": {},
   "outputs": [],
   "source": [
    "train_ids.to_json('temp/train_data_samples_ids.jsonl',\n",
    "                     lines = True, orient='records')"
   ]
  },
  {
   "cell_type": "code",
   "execution_count": 65,
   "id": "e68dbce4-712e-435e-8787-85ffe5aae1c9",
   "metadata": {},
   "outputs": [],
   "source": [
    "# shuffle train data\n",
    "train_sample = train[['main_sent', 'matching_sent']].\\\n",
    "        drop_duplicates().\\\n",
    "        sample(frac=1, random_state=10).\\\n",
    "        reset_index(drop = True).\\\n",
    "        rename(columns = {'main_sent': 'prompt', 'matching_sent':'completion'})\n",
    "train_sample.to_json('{}/train_data_samples.jsonl'.format(gpt3_data_folder),\n",
    "                     lines = True, orient='records')"
   ]
  },
  {
   "cell_type": "code",
   "execution_count": 67,
   "id": "685e17f5-e1ae-4155-9a77-c3af3c86d6f4",
   "metadata": {},
   "outputs": [
    {
     "data": {
      "text/plain": [
       "(4961, 2)"
      ]
     },
     "execution_count": 67,
     "metadata": {},
     "output_type": "execute_result"
    }
   ],
   "source": [
    "train_sample.shape"
   ]
  },
  {
   "cell_type": "code",
   "execution_count": null,
   "id": "cd5e0c54-3e1a-44fc-b714-ce15120c18f0",
   "metadata": {},
   "outputs": [],
   "source": []
  }
 ],
 "metadata": {
  "kernelspec": {
   "display_name": "Python 3 (ipykernel)",
   "language": "python",
   "name": "python3"
  },
  "language_info": {
   "codemirror_mode": {
    "name": "ipython",
    "version": 3
   },
   "file_extension": ".py",
   "mimetype": "text/x-python",
   "name": "python",
   "nbconvert_exporter": "python",
   "pygments_lexer": "ipython3",
   "version": "3.9.5"
  }
 },
 "nbformat": 4,
 "nbformat_minor": 5
}
