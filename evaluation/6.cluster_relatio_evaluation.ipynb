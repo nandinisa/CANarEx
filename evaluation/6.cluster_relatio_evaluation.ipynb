{
 "cells": [
  {
   "cell_type": "code",
   "execution_count": 1,
   "id": "07dbe042-5098-4014-85b8-3a845b8c52f5",
   "metadata": {},
   "outputs": [],
   "source": [
    "import pandas as pd\n",
    "import json\n",
    "import pickle\n",
    "import joblib\n",
    "\n",
    "import matplotlib.pyplot as plt\n",
    "import seaborn as sns"
   ]
  },
  {
   "cell_type": "code",
   "execution_count": 2,
   "id": "ce44fc4e-03c6-4f81-ab7b-a0009b75c61a",
   "metadata": {},
   "outputs": [],
   "source": [
    "import sys \n",
    "sys.path.append('../')\n",
    "from fast_tsne.fast_tsne import fast_tsne"
   ]
  },
  {
   "cell_type": "code",
   "execution_count": 3,
   "id": "8d7556da-96da-497f-af9a-60053ab0c4d3",
   "metadata": {},
   "outputs": [],
   "source": [
    "import numpy as np\n",
    "from sklearn.linear_model import LinearRegression\n",
    "from sklearn.metrics import mean_squared_error, r2_score"
   ]
  },
  {
   "cell_type": "code",
   "execution_count": 4,
   "id": "bab1b8fd-f41e-449a-8bae-09dfed63f396",
   "metadata": {},
   "outputs": [],
   "source": [
    "from eval_canarex import calculate_mse"
   ]
  },
  {
   "cell_type": "markdown",
   "id": "e5e2325e-684c-44af-93c9-6fd22d78b708",
   "metadata": {
    "tags": []
   },
   "source": [
    "## Cluster results"
   ]
  },
  {
   "cell_type": "markdown",
   "id": "7feed4aa-ef8c-497b-afee-1a5495adf3ce",
   "metadata": {
    "tags": []
   },
   "source": [
    "### Textrank"
   ]
  },
  {
   "cell_type": "code",
   "execution_count": 18,
   "id": "2739e1c1-3b08-40de-a506-36c4642c2a09",
   "metadata": {},
   "outputs": [],
   "source": [
    "path='relatio_test/clust_100/'\n",
    "\n",
    "cpath = '{}/kmeans_all.pkl'.format(path)\n",
    "narratives_path='{}/final_narratives.jsonl'.format(path)\n",
    "result_path = '{}/results.jsonl'.format(path)\n",
    "eval_path = '{}/eval_output.csv'.format(path)\n",
    "\n",
    "ctype='true_text'"
   ]
  },
  {
   "cell_type": "markdown",
   "id": "35a25367-fdec-4a49-9735-1453dc5e8175",
   "metadata": {},
   "source": [
    "### Load scores"
   ]
  },
  {
   "cell_type": "code",
   "execution_count": 19,
   "id": "c86977b4-42f4-468c-b4c7-efc003e6064d",
   "metadata": {
    "tags": []
   },
   "outputs": [],
   "source": [
    "df = pd.read_pickle(cpath)"
   ]
  },
  {
   "cell_type": "code",
   "execution_count": 7,
   "id": "241bfb70-e6c1-426f-8a60-6a67466af9e0",
   "metadata": {},
   "outputs": [
    {
     "data": {
      "text/html": [
       "<div>\n",
       "<style scoped>\n",
       "    .dataframe tbody tr th:only-of-type {\n",
       "        vertical-align: middle;\n",
       "    }\n",
       "\n",
       "    .dataframe tbody tr th {\n",
       "        vertical-align: top;\n",
       "    }\n",
       "\n",
       "    .dataframe thead th {\n",
       "        text-align: right;\n",
       "    }\n",
       "</style>\n",
       "<table border=\"1\" class=\"dataframe\">\n",
       "  <thead>\n",
       "    <tr style=\"text-align: right;\">\n",
       "      <th></th>\n",
       "      <th>k</th>\n",
       "      <th>score</th>\n",
       "      <th>dist</th>\n",
       "      <th>labels</th>\n",
       "    </tr>\n",
       "  </thead>\n",
       "  <tbody>\n",
       "    <tr>\n",
       "      <th>0</th>\n",
       "      <td>2</td>\n",
       "      <td>0.109552</td>\n",
       "      <td>[0.97442937, 0.9733651, 0.94854605, 0.68408346...</td>\n",
       "      <td>[1, 1, 1, 1, 0, 1, 1, 1, 1, 1, 1, 1, 1, 1, 1, ...</td>\n",
       "    </tr>\n",
       "    <tr>\n",
       "      <th>0</th>\n",
       "      <td>3</td>\n",
       "      <td>0.114131</td>\n",
       "      <td>[0.9483961, 0.9779208, 0.94301593, 0.5396521, ...</td>\n",
       "      <td>[2, 2, 2, 1, 0, 2, 2, 2, 2, 2, 2, 2, 2, 2, 2, ...</td>\n",
       "    </tr>\n",
       "  </tbody>\n",
       "</table>\n",
       "</div>"
      ],
      "text/plain": [
       "   k     score                                               dist  \\\n",
       "0  2  0.109552  [0.97442937, 0.9733651, 0.94854605, 0.68408346...   \n",
       "0  3  0.114131  [0.9483961, 0.9779208, 0.94301593, 0.5396521, ...   \n",
       "\n",
       "                                              labels  \n",
       "0  [1, 1, 1, 1, 0, 1, 1, 1, 1, 1, 1, 1, 1, 1, 1, ...  \n",
       "0  [2, 2, 2, 1, 0, 2, 2, 2, 2, 2, 2, 2, 2, 2, 2, ...  "
      ]
     },
     "execution_count": 7,
     "metadata": {},
     "output_type": "execute_result"
    }
   ],
   "source": [
    "df.head(2)"
   ]
  },
  {
   "cell_type": "code",
   "execution_count": 20,
   "id": "6e0b2c16-1375-45f3-a9be-08a77f2faf7d",
   "metadata": {},
   "outputs": [],
   "source": [
    "df = df[df.score == df.score.max()]\n",
    "df = df.explode(['dist', 'labels'])\n",
    "df = df.reset_index(drop = True)"
   ]
  },
  {
   "cell_type": "code",
   "execution_count": 10,
   "id": "b130b37a-3094-4404-8b1e-018e9201b10b",
   "metadata": {},
   "outputs": [
    {
     "data": {
      "text/plain": [
       "(208276, 4)"
      ]
     },
     "execution_count": 10,
     "metadata": {},
     "output_type": "execute_result"
    }
   ],
   "source": [
    "df.shape"
   ]
  },
  {
   "cell_type": "code",
   "execution_count": 11,
   "id": "3ebea7f8-d08c-48b5-8df7-597a2460f621",
   "metadata": {},
   "outputs": [
    {
     "data": {
      "text/plain": [
       "6"
      ]
     },
     "execution_count": 11,
     "metadata": {},
     "output_type": "execute_result"
    }
   ],
   "source": [
    "df.labels.nunique()"
   ]
  },
  {
   "cell_type": "code",
   "execution_count": 12,
   "id": "c8c84de0-5f8f-48f0-9065-79de671605e1",
   "metadata": {},
   "outputs": [
    {
     "data": {
      "text/html": [
       "<div>\n",
       "<style scoped>\n",
       "    .dataframe tbody tr th:only-of-type {\n",
       "        vertical-align: middle;\n",
       "    }\n",
       "\n",
       "    .dataframe tbody tr th {\n",
       "        vertical-align: top;\n",
       "    }\n",
       "\n",
       "    .dataframe thead th {\n",
       "        text-align: right;\n",
       "    }\n",
       "</style>\n",
       "<table border=\"1\" class=\"dataframe\">\n",
       "  <thead>\n",
       "    <tr style=\"text-align: right;\">\n",
       "      <th></th>\n",
       "      <th>k</th>\n",
       "      <th>score</th>\n",
       "      <th>dist</th>\n",
       "      <th>labels</th>\n",
       "    </tr>\n",
       "  </thead>\n",
       "  <tbody>\n",
       "    <tr>\n",
       "      <th>0</th>\n",
       "      <td>6</td>\n",
       "      <td>0.127249</td>\n",
       "      <td>0.767754</td>\n",
       "      <td>3</td>\n",
       "    </tr>\n",
       "    <tr>\n",
       "      <th>1</th>\n",
       "      <td>6</td>\n",
       "      <td>0.127249</td>\n",
       "      <td>0.941476</td>\n",
       "      <td>1</td>\n",
       "    </tr>\n",
       "  </tbody>\n",
       "</table>\n",
       "</div>"
      ],
      "text/plain": [
       "   k     score      dist labels\n",
       "0  6  0.127249  0.767754      3\n",
       "1  6  0.127249  0.941476      1"
      ]
     },
     "execution_count": 12,
     "metadata": {},
     "output_type": "execute_result"
    }
   ],
   "source": [
    "df.head(2)"
   ]
  },
  {
   "cell_type": "code",
   "execution_count": 13,
   "id": "54f64e6f-ef36-485b-b8e4-5c1b5e17a8b5",
   "metadata": {},
   "outputs": [
    {
     "data": {
      "text/plain": [
       "(208276, 4)"
      ]
     },
     "execution_count": 13,
     "metadata": {},
     "output_type": "execute_result"
    }
   ],
   "source": [
    "df.shape"
   ]
  },
  {
   "cell_type": "markdown",
   "id": "49160976-cdc2-4ce2-bf49-63f08dd9f6e1",
   "metadata": {},
   "source": [
    "### Merge narratives"
   ]
  },
  {
   "cell_type": "code",
   "execution_count": 8,
   "id": "6b19b8ff-db60-404c-a56b-27d1a990949a",
   "metadata": {},
   "outputs": [
    {
     "data": {
      "text/plain": [
       "'relatio_test/clust_100//final_narratives.jsonl'"
      ]
     },
     "execution_count": 8,
     "metadata": {},
     "output_type": "execute_result"
    }
   ],
   "source": [
    "narratives_path"
   ]
  },
  {
   "cell_type": "code",
   "execution_count": 9,
   "id": "87a31867-56ae-44ee-8d12-58eec15991f0",
   "metadata": {},
   "outputs": [],
   "source": [
    "chunks = pd.read_json(narratives_path, \n",
    "                      lines=True, chunksize=10000)\n",
    "narratives = None\n",
    "for chunk in chunks:\n",
    "    if narratives is None:\n",
    "        narratives = chunk\n",
    "    else:\n",
    "        narratives = pd.concat([narratives, chunk], axis=0)"
   ]
  },
  {
   "cell_type": "code",
   "execution_count": 16,
   "id": "bdd79656-4b48-4ebe-bc3f-62bdd018ad29",
   "metadata": {},
   "outputs": [
    {
     "data": {
      "text/plain": [
       "(208276, 8)"
      ]
     },
     "execution_count": 16,
     "metadata": {},
     "output_type": "execute_result"
    }
   ],
   "source": [
    "narratives.shape"
   ]
  },
  {
   "cell_type": "code",
   "execution_count": 17,
   "id": "7ea719fe-507c-491e-8111-2f08da09b241",
   "metadata": {},
   "outputs": [
    {
     "data": {
      "text/plain": [
       "RangeIndex(start=0, stop=208276, step=1)"
      ]
     },
     "execution_count": 17,
     "metadata": {},
     "output_type": "execute_result"
    }
   ],
   "source": [
    "narratives.index"
   ]
  },
  {
   "cell_type": "code",
   "execution_count": 21,
   "id": "379ebc69-c257-48a7-af52-ab41044bb60c",
   "metadata": {},
   "outputs": [],
   "source": [
    "final = pd.concat([narratives, df.reset_index(drop = True)],\n",
    "                  axis = 1)"
   ]
  },
  {
   "cell_type": "code",
   "execution_count": 22,
   "id": "773d5c3e-c63d-4ec3-a4e5-c15bf10ccbba",
   "metadata": {},
   "outputs": [],
   "source": [
    "final = final.rename(columns = {'sentence': 'text'})"
   ]
  },
  {
   "cell_type": "code",
   "execution_count": 22,
   "id": "5ac21904-940e-42e2-9305-c5eaa72c3a94",
   "metadata": {},
   "outputs": [
    {
     "data": {
      "text/plain": [
       "(208276, 12)"
      ]
     },
     "execution_count": 22,
     "metadata": {},
     "output_type": "execute_result"
    }
   ],
   "source": [
    "final.shape"
   ]
  },
  {
   "cell_type": "code",
   "execution_count": 23,
   "id": "a5fa234d-8049-433c-8ec6-5135de7df2a4",
   "metadata": {},
   "outputs": [],
   "source": [
    "df = pd.read_json('{}/synthetic_test_data_{}.jsonl'.format('synthetic_data', ctype), \n",
    "                  lines = True, orient='records')"
   ]
  },
  {
   "cell_type": "code",
   "execution_count": 24,
   "id": "96296da3-b594-4e1e-bb17-37f65876aea9",
   "metadata": {},
   "outputs": [],
   "source": [
    "orig_text = df[['id', 'sentence_id', 'text', 'noise', 'synthetic_label', 'time']].drop_duplicates()\n"
   ]
  },
  {
   "cell_type": "code",
   "execution_count": 26,
   "id": "13a8391d-4456-4817-9d7d-08bb341a3918",
   "metadata": {},
   "outputs": [
    {
     "data": {
      "text/plain": [
       "(208276, 12)"
      ]
     },
     "execution_count": 26,
     "metadata": {},
     "output_type": "execute_result"
    }
   ],
   "source": [
    "final.shape"
   ]
  },
  {
   "cell_type": "code",
   "execution_count": 25,
   "id": "eb766edf-6254-4d41-b7c8-e3fdf66430f3",
   "metadata": {},
   "outputs": [],
   "source": [
    "final = pd.merge(final, orig_text)"
   ]
  },
  {
   "cell_type": "code",
   "execution_count": 28,
   "id": "d144603e-6ca8-4643-9ed0-3c0d5a3282d4",
   "metadata": {},
   "outputs": [
    {
     "data": {
      "text/plain": [
       "(208276, 16)"
      ]
     },
     "execution_count": 28,
     "metadata": {},
     "output_type": "execute_result"
    }
   ],
   "source": [
    "final.shape"
   ]
  },
  {
   "cell_type": "code",
   "execution_count": 159,
   "id": "f2fb8b4a-2876-4581-927e-32131089b82e",
   "metadata": {},
   "outputs": [],
   "source": [
    "# 1 = triangle (18: kevin rudd)\n",
    "# 2 = square (24: climate change)\n",
    "# 3 = random wave (63: Indeginous people)"
   ]
  },
  {
   "cell_type": "code",
   "execution_count": 29,
   "id": "ec023a8c-8cd4-4d16-9744-28d0c429a2d7",
   "metadata": {},
   "outputs": [
    {
     "data": {
      "text/html": [
       "<div>\n",
       "<style scoped>\n",
       "    .dataframe tbody tr th:only-of-type {\n",
       "        vertical-align: middle;\n",
       "    }\n",
       "\n",
       "    .dataframe tbody tr th {\n",
       "        vertical-align: top;\n",
       "    }\n",
       "\n",
       "    .dataframe thead th {\n",
       "        text-align: right;\n",
       "    }\n",
       "</style>\n",
       "<table border=\"1\" class=\"dataframe\">\n",
       "  <thead>\n",
       "    <tr style=\"text-align: right;\">\n",
       "      <th></th>\n",
       "      <th>synthetic_label</th>\n",
       "      <th>labels</th>\n",
       "      <th>l</th>\n",
       "    </tr>\n",
       "  </thead>\n",
       "  <tbody>\n",
       "    <tr>\n",
       "      <th>5</th>\n",
       "      <td>1</td>\n",
       "      <td>5</td>\n",
       "      <td>14669</td>\n",
       "    </tr>\n",
       "    <tr>\n",
       "      <th>3</th>\n",
       "      <td>1</td>\n",
       "      <td>3</td>\n",
       "      <td>4613</td>\n",
       "    </tr>\n",
       "    <tr>\n",
       "      <th>1</th>\n",
       "      <td>1</td>\n",
       "      <td>1</td>\n",
       "      <td>3327</td>\n",
       "    </tr>\n",
       "    <tr>\n",
       "      <th>7</th>\n",
       "      <td>2</td>\n",
       "      <td>1</td>\n",
       "      <td>16283</td>\n",
       "    </tr>\n",
       "    <tr>\n",
       "      <th>10</th>\n",
       "      <td>2</td>\n",
       "      <td>4</td>\n",
       "      <td>13261</td>\n",
       "    </tr>\n",
       "    <tr>\n",
       "      <th>6</th>\n",
       "      <td>2</td>\n",
       "      <td>0</td>\n",
       "      <td>9552</td>\n",
       "    </tr>\n",
       "    <tr>\n",
       "      <th>14</th>\n",
       "      <td>3</td>\n",
       "      <td>2</td>\n",
       "      <td>68030</td>\n",
       "    </tr>\n",
       "    <tr>\n",
       "      <th>13</th>\n",
       "      <td>3</td>\n",
       "      <td>1</td>\n",
       "      <td>10710</td>\n",
       "    </tr>\n",
       "    <tr>\n",
       "      <th>12</th>\n",
       "      <td>3</td>\n",
       "      <td>0</td>\n",
       "      <td>5687</td>\n",
       "    </tr>\n",
       "  </tbody>\n",
       "</table>\n",
       "</div>"
      ],
      "text/plain": [
       "    synthetic_label  labels      l\n",
       "5                 1       5  14669\n",
       "3                 1       3   4613\n",
       "1                 1       1   3327\n",
       "7                 2       1  16283\n",
       "10                2       4  13261\n",
       "6                 2       0   9552\n",
       "14                3       2  68030\n",
       "13                3       1  10710\n",
       "12                3       0   5687"
      ]
     },
     "execution_count": 29,
     "metadata": {},
     "output_type": "execute_result"
    }
   ],
   "source": [
    "final[final.noise == False].groupby(['synthetic_label', 'labels']).\\\n",
    "size().\\\n",
    "reset_index(name='l').\\\n",
    "sort_values(['synthetic_label', 'l'], ascending=[True, False]).\\\n",
    "groupby(['synthetic_label']).\\\n",
    "head(3)"
   ]
  },
  {
   "cell_type": "markdown",
   "id": "cedd7d40-f8f8-4d19-97d4-8d5c113c72b2",
   "metadata": {
    "tags": []
   },
   "source": [
    "### Calculate MSE"
   ]
  },
  {
   "cell_type": "code",
   "execution_count": 32,
   "id": "cf78a8b3-2405-4280-aabf-5934183a5eac",
   "metadata": {},
   "outputs": [
    {
     "data": {
      "text/plain": [
       "'true_text'"
      ]
     },
     "execution_count": 32,
     "metadata": {},
     "output_type": "execute_result"
    }
   ],
   "source": [
    "ctype"
   ]
  },
  {
   "cell_type": "code",
   "execution_count": 33,
   "id": "35cf6bbe-29ef-441a-9060-f8c43d61468d",
   "metadata": {},
   "outputs": [],
   "source": [
    "df = pd.read_json('{}/synthetic_test_data_{}.jsonl'.format('synthetic_data', ctype), \n",
    "                  lines = True, orient='records')"
   ]
  },
  {
   "cell_type": "code",
   "execution_count": 34,
   "id": "64add6f2-5b95-43d7-b85a-a47a573d7085",
   "metadata": {},
   "outputs": [],
   "source": [
    "final = pd.read_json(result_path, lines = True, orient='records')"
   ]
  },
  {
   "cell_type": "code",
   "execution_count": 72,
   "id": "42e91f97-0c86-4daa-a4b6-34e43d0e27d7",
   "metadata": {},
   "outputs": [
    {
     "data": {
      "text/plain": [
       "array([3, 1, 5, 2, 4, 0])"
      ]
     },
     "execution_count": 72,
     "metadata": {},
     "output_type": "execute_result"
    }
   ],
   "source": [
    "final.labels.unique()"
   ]
  },
  {
   "cell_type": "code",
   "execution_count": 26,
   "id": "9e86c73c-4d04-4854-ab4f-66115c76151a",
   "metadata": {},
   "outputs": [],
   "source": [
    "eval_df = calculate_mse(df, final)"
   ]
  },
  {
   "cell_type": "code",
   "execution_count": 53,
   "id": "ef7e88ca-916a-4fe3-96ab-a5b78253dfe6",
   "metadata": {},
   "outputs": [
    {
     "data": {
      "text/plain": [
       "'relatio_test/clust_100//eval_output.csv'"
      ]
     },
     "execution_count": 53,
     "metadata": {},
     "output_type": "execute_result"
    }
   ],
   "source": [
    "eval_path"
   ]
  },
  {
   "cell_type": "code",
   "execution_count": 87,
   "id": "752c457f-e447-45e6-83f2-8b4a701ac37d",
   "metadata": {},
   "outputs": [],
   "source": [
    "eval_df.to_csv(eval_path, index = False)"
   ]
  },
  {
   "cell_type": "code",
   "execution_count": null,
   "id": "47d2b457-ee10-441e-93df-bb9878929c2c",
   "metadata": {},
   "outputs": [],
   "source": [
    "eval_df"
   ]
  },
  {
   "cell_type": "code",
   "execution_count": 76,
   "id": "795cc7e0-b7ee-4763-b1d3-62bd47801dc6",
   "metadata": {},
   "outputs": [
    {
     "data": {
      "text/html": [
       "<div>\n",
       "<style scoped>\n",
       "    .dataframe tbody tr th:only-of-type {\n",
       "        vertical-align: middle;\n",
       "    }\n",
       "\n",
       "    .dataframe tbody tr th {\n",
       "        vertical-align: top;\n",
       "    }\n",
       "\n",
       "    .dataframe thead th {\n",
       "        text-align: right;\n",
       "    }\n",
       "</style>\n",
       "<table border=\"1\" class=\"dataframe\">\n",
       "  <thead>\n",
       "    <tr style=\"text-align: right;\">\n",
       "      <th></th>\n",
       "      <th>orig_clust</th>\n",
       "      <th>pred_clust</th>\n",
       "      <th>intercept</th>\n",
       "      <th>coef</th>\n",
       "      <th>mse</th>\n",
       "      <th>r_sq</th>\n",
       "    </tr>\n",
       "  </thead>\n",
       "  <tbody>\n",
       "    <tr>\n",
       "      <th>2</th>\n",
       "      <td>1</td>\n",
       "      <td>5</td>\n",
       "      <td>-19.232467</td>\n",
       "      <td>3.20669</td>\n",
       "      <td>471.754359</td>\n",
       "      <td>0.977219</td>\n",
       "    </tr>\n",
       "    <tr>\n",
       "      <th>10</th>\n",
       "      <td>2</td>\n",
       "      <td>4</td>\n",
       "      <td>-43.677397</td>\n",
       "      <td>5.831577</td>\n",
       "      <td>1444.872357</td>\n",
       "      <td>0.96783</td>\n",
       "    </tr>\n",
       "    <tr>\n",
       "      <th>15</th>\n",
       "      <td>3</td>\n",
       "      <td>2</td>\n",
       "      <td>4.528892</td>\n",
       "      <td>2.235056</td>\n",
       "      <td>580.683972</td>\n",
       "      <td>0.936984</td>\n",
       "    </tr>\n",
       "  </tbody>\n",
       "</table>\n",
       "</div>"
      ],
      "text/plain": [
       "   orig_clust pred_clust  intercept      coef          mse      r_sq\n",
       "2           1          5 -19.232467   3.20669   471.754359  0.977219\n",
       "10          2          4 -43.677397  5.831577  1444.872357   0.96783\n",
       "15          3          2   4.528892  2.235056   580.683972  0.936984"
      ]
     },
     "execution_count": 76,
     "metadata": {},
     "output_type": "execute_result"
    }
   ],
   "source": [
    "eval_df[eval_df.mse == eval_df.groupby(['orig_clust'])['mse'].transform('min')]"
   ]
  },
  {
   "cell_type": "markdown",
   "id": "e4234be7-7daf-499c-bdb9-2cee557a08b2",
   "metadata": {
    "tags": []
   },
   "source": [
    "### Save output"
   ]
  },
  {
   "cell_type": "code",
   "execution_count": 79,
   "id": "84d3b7fa-58f0-4c19-9515-7a77fa691adf",
   "metadata": {},
   "outputs": [
    {
     "data": {
      "text/plain": [
       "'relatio_test/clust_100//eval_output.csv'"
      ]
     },
     "execution_count": 79,
     "metadata": {},
     "output_type": "execute_result"
    }
   ],
   "source": [
    "eval_path"
   ]
  },
  {
   "cell_type": "code",
   "execution_count": null,
   "id": "09488f9f-3386-4d4c-a21f-82d40477c8bd",
   "metadata": {},
   "outputs": [],
   "source": [
    "eval_df.to_csv(eval_path, index = False)"
   ]
  },
  {
   "cell_type": "markdown",
   "id": "d0faab79-0d96-4598-8022-0bed16b2dd01",
   "metadata": {},
   "source": [
    "### Create label mapping"
   ]
  },
  {
   "cell_type": "code",
   "execution_count": 80,
   "id": "8371f2ba-76bb-4319-a0ed-f1023302e016",
   "metadata": {},
   "outputs": [],
   "source": [
    "label_mapping = eval_df[eval_df.mse == eval_df.groupby(['orig_clust'])['mse'].transform('min')]\n",
    "label_mapping = label_mapping[['orig_clust', 'pred_clust']]\n",
    "label_mapping = label_mapping.rename(columns = {'pred_clust': 'labels',\n",
    "                                      'orig_clust':'new_labels'})"
   ]
  },
  {
   "cell_type": "code",
   "execution_count": 81,
   "id": "91fdca2e-6c20-4094-8edb-4c7a108ec8af",
   "metadata": {},
   "outputs": [
    {
     "data": {
      "text/html": [
       "<div>\n",
       "<style scoped>\n",
       "    .dataframe tbody tr th:only-of-type {\n",
       "        vertical-align: middle;\n",
       "    }\n",
       "\n",
       "    .dataframe tbody tr th {\n",
       "        vertical-align: top;\n",
       "    }\n",
       "\n",
       "    .dataframe thead th {\n",
       "        text-align: right;\n",
       "    }\n",
       "</style>\n",
       "<table border=\"1\" class=\"dataframe\">\n",
       "  <thead>\n",
       "    <tr style=\"text-align: right;\">\n",
       "      <th></th>\n",
       "      <th>new_labels</th>\n",
       "      <th>labels</th>\n",
       "    </tr>\n",
       "  </thead>\n",
       "  <tbody>\n",
       "    <tr>\n",
       "      <th>5</th>\n",
       "      <td>1</td>\n",
       "      <td>5</td>\n",
       "    </tr>\n",
       "    <tr>\n",
       "      <th>10</th>\n",
       "      <td>2</td>\n",
       "      <td>4</td>\n",
       "    </tr>\n",
       "    <tr>\n",
       "      <th>14</th>\n",
       "      <td>3</td>\n",
       "      <td>2</td>\n",
       "    </tr>\n",
       "  </tbody>\n",
       "</table>\n",
       "</div>"
      ],
      "text/plain": [
       "   new_labels labels\n",
       "5           1      5\n",
       "10          2      4\n",
       "14          3      2"
      ]
     },
     "execution_count": 81,
     "metadata": {},
     "output_type": "execute_result"
    }
   ],
   "source": [
    "label_mapping"
   ]
  },
  {
   "cell_type": "code",
   "execution_count": 82,
   "id": "e1bd1388-7955-43c6-b44d-f5c9fd40ac50",
   "metadata": {},
   "outputs": [],
   "source": [
    "# column, new_labels: mapped original cluster assignments (3 clusters)\n",
    "# column, labels: new cluster assignments (N clusters)\n",
    "\n",
    "# Map the rest of the (N-3) labels to a single cluster (as it is not considered recovery)\n",
    "# Used for plotting graphs\n",
    "pending_labels = deque()\n",
    "pending_labels.extend(set(range(0, final.labels.nunique())) - set(label_mapping.labels.tolist()))\n",
    "\n",
    "label_mapping_dict = []\n",
    "for i in range(4, 4 + len(pending_labels)):\n",
    "    label_mapping_dict.append({'new_labels': 4, 'labels':pending_labels.pop()})\n",
    "\n",
    "# Add pending labels\n",
    "label_mapping = pd.concat([label_mapping, pd.DataFrame(label_mapping_dict)], axis = 0).reset_index(drop = True)"
   ]
  },
  {
   "cell_type": "code",
   "execution_count": 83,
   "id": "d6718604-00ec-4793-8693-bab8af6834e0",
   "metadata": {},
   "outputs": [
    {
     "data": {
      "text/html": [
       "<div>\n",
       "<style scoped>\n",
       "    .dataframe tbody tr th:only-of-type {\n",
       "        vertical-align: middle;\n",
       "    }\n",
       "\n",
       "    .dataframe tbody tr th {\n",
       "        vertical-align: top;\n",
       "    }\n",
       "\n",
       "    .dataframe thead th {\n",
       "        text-align: right;\n",
       "    }\n",
       "</style>\n",
       "<table border=\"1\" class=\"dataframe\">\n",
       "  <thead>\n",
       "    <tr style=\"text-align: right;\">\n",
       "      <th></th>\n",
       "      <th>new_labels</th>\n",
       "      <th>labels</th>\n",
       "    </tr>\n",
       "  </thead>\n",
       "  <tbody>\n",
       "    <tr>\n",
       "      <th>0</th>\n",
       "      <td>1</td>\n",
       "      <td>5</td>\n",
       "    </tr>\n",
       "    <tr>\n",
       "      <th>1</th>\n",
       "      <td>2</td>\n",
       "      <td>4</td>\n",
       "    </tr>\n",
       "    <tr>\n",
       "      <th>2</th>\n",
       "      <td>3</td>\n",
       "      <td>2</td>\n",
       "    </tr>\n",
       "    <tr>\n",
       "      <th>3</th>\n",
       "      <td>4</td>\n",
       "      <td>3</td>\n",
       "    </tr>\n",
       "    <tr>\n",
       "      <th>4</th>\n",
       "      <td>4</td>\n",
       "      <td>1</td>\n",
       "    </tr>\n",
       "    <tr>\n",
       "      <th>5</th>\n",
       "      <td>4</td>\n",
       "      <td>0</td>\n",
       "    </tr>\n",
       "  </tbody>\n",
       "</table>\n",
       "</div>"
      ],
      "text/plain": [
       "  new_labels labels\n",
       "0          1      5\n",
       "1          2      4\n",
       "2          3      2\n",
       "3          4      3\n",
       "4          4      1\n",
       "5          4      0"
      ]
     },
     "execution_count": 83,
     "metadata": {},
     "output_type": "execute_result"
    }
   ],
   "source": [
    "# narrative cluster assignments mapped to orignial synthetic cluster\n",
    "# Cluster 1 = triangle (kevin rudd)\n",
    "# Cluster 2 = square (climate change)\n",
    "# Cluster 3 = random wave (Indeginous people)\n",
    "# Cluster 4 = Other new cluster identified (we treat this as noise)\n",
    "label_mapping"
   ]
  },
  {
   "cell_type": "code",
   "execution_count": 84,
   "id": "6d58dabb-43f5-4b7c-8927-26bc19682d80",
   "metadata": {},
   "outputs": [],
   "source": [
    "final = pd.merge(final, label_mapping)"
   ]
  },
  {
   "cell_type": "markdown",
   "id": "d0ee1d6a-096b-48f5-b21d-240362b1c832",
   "metadata": {},
   "source": [
    "### Plot narrative clusters"
   ]
  },
  {
   "cell_type": "code",
   "execution_count": 85,
   "id": "98a69f63-aaa8-48d0-b0d3-dd3c8e0f8c31",
   "metadata": {},
   "outputs": [],
   "source": [
    "cluster_labels = {1:'Cluster 1: Kevin Rudd', #18, #synthetic label 1, Kevin Rudd\n",
    "2:'Cluster 2: Climate change', # 24 #synthetic label 2 Climate change\n",
    "3:'Cluster 3: Indeginous people', #63 #synthetic label 3, Indeginous people\n",
    "4: 'Cluster 4: New cluster'}\n",
    "\n",
    "colour = {'1':'#abd9e9',\n",
    "'2':'#fdae61',\n",
    "'3': '#D2AB3C',\n",
    "'4': '#5ab4ac'}"
   ]
  },
  {
   "cell_type": "code",
   "execution_count": null,
   "id": "63617642-009c-456a-a216-a123b7d6b2fb",
   "metadata": {},
   "outputs": [],
   "source": [
    "test = final[final.noise == False]\\\n",
    "[['sentence_id','time', 'text', 'synthetic_label', 'noise', 'new_labels']].drop_duplicates()\n",
    "test = test.groupby(['time', 'new_labels']).size().reset_index(name='l')\n",
    "test = test.sort_values(by=['new_labels'], key=lambda x: x.map(cluster_labels))\n",
    "\n",
    "fig, ax = plt.subplots(figsize=(8,6))\n",
    "for label in test.new_labels.unique():\n",
    "    ax.scatter(test[test.new_labels == label].time.tolist(), \n",
    "               test[test.new_labels == label].l.tolist(), \n",
    "               c=[colour[str(i)] for i in test[test.new_labels == label].new_labels.tolist()], \n",
    "               s=15, label=cluster_labels[label],\n",
    "               alpha=1, edgecolors='none')\n",
    "\n",
    "ax.legend(title='Topics', loc=1, prop={'size': 12}, \n",
    "          title_fontsize=15, markerscale=2, framealpha=0.5)\n",
    "ax.grid(False)\n",
    "ax.set_ylabel(\"No of sentences\", size=14)\n",
    "ax.set_xlabel(\"Time\", size=14)\n",
    "ax.grid(False)\n",
    "plt.show()"
   ]
  },
  {
   "cell_type": "markdown",
   "id": "d3eb7503-8cc5-487e-9f76-38499883392f",
   "metadata": {},
   "source": [
    "### Compare clusters"
   ]
  },
  {
   "cell_type": "code",
   "execution_count": 56,
   "id": "928b7473-f75f-4966-b39c-7e122d0cb7cd",
   "metadata": {},
   "outputs": [],
   "source": [
    "import pandas as pd"
   ]
  },
  {
   "cell_type": "code",
   "execution_count": 89,
   "id": "a49680e3-0ffd-4603-aa06-2e93db91218d",
   "metadata": {},
   "outputs": [],
   "source": [
    "# All clusters\n",
    "path='relatio_test/clust_40'\n",
    "eval_df = pd.read_csv('{}/eval_output.csv'.format(path))"
   ]
  },
  {
   "cell_type": "code",
   "execution_count": 90,
   "id": "6a6dfb61-bb3c-475d-8b89-b7f22b1ce3fc",
   "metadata": {},
   "outputs": [
    {
     "data": {
      "text/html": [
       "<div>\n",
       "<style scoped>\n",
       "    .dataframe tbody tr th:only-of-type {\n",
       "        vertical-align: middle;\n",
       "    }\n",
       "\n",
       "    .dataframe tbody tr th {\n",
       "        vertical-align: top;\n",
       "    }\n",
       "\n",
       "    .dataframe thead th {\n",
       "        text-align: right;\n",
       "    }\n",
       "</style>\n",
       "<table border=\"1\" class=\"dataframe\">\n",
       "  <thead>\n",
       "    <tr style=\"text-align: right;\">\n",
       "      <th></th>\n",
       "      <th>orig_clust</th>\n",
       "      <th>pred_clust</th>\n",
       "      <th>intercept</th>\n",
       "      <th>coef</th>\n",
       "      <th>mse</th>\n",
       "      <th>r_sq</th>\n",
       "    </tr>\n",
       "  </thead>\n",
       "  <tbody>\n",
       "    <tr>\n",
       "      <th>3</th>\n",
       "      <td>1</td>\n",
       "      <td>3</td>\n",
       "      <td>-7.257261</td>\n",
       "      <td>3.467224</td>\n",
       "      <td>378.230393</td>\n",
       "      <td>0.981817</td>\n",
       "    </tr>\n",
       "    <tr>\n",
       "      <th>11</th>\n",
       "      <td>2</td>\n",
       "      <td>5</td>\n",
       "      <td>-134.695081</td>\n",
       "      <td>6.384355</td>\n",
       "      <td>6818.049052</td>\n",
       "      <td>0.827567</td>\n",
       "    </tr>\n",
       "    <tr>\n",
       "      <th>12</th>\n",
       "      <td>3</td>\n",
       "      <td>0</td>\n",
       "      <td>7.804375</td>\n",
       "      <td>2.296535</td>\n",
       "      <td>555.529785</td>\n",
       "      <td>0.939877</td>\n",
       "    </tr>\n",
       "  </tbody>\n",
       "</table>\n",
       "</div>"
      ],
      "text/plain": [
       "    orig_clust  pred_clust   intercept      coef          mse      r_sq\n",
       "3            1           3   -7.257261  3.467224   378.230393  0.981817\n",
       "11           2           5 -134.695081  6.384355  6818.049052  0.827567\n",
       "12           3           0    7.804375  2.296535   555.529785  0.939877"
      ]
     },
     "execution_count": 90,
     "metadata": {},
     "output_type": "execute_result"
    }
   ],
   "source": [
    "eval_df[eval_df.mse == eval_df.groupby(['orig_clust'])['mse'].transform('min')]"
   ]
  },
  {
   "cell_type": "code",
   "execution_count": 91,
   "id": "7cdb79f0-49d9-4e68-99ae-3cacfc8eacfc",
   "metadata": {},
   "outputs": [],
   "source": [
    "path='relatio_test/clust_100'\n",
    "eval_df = pd.read_csv('{}/eval_output.csv'.format(path))"
   ]
  },
  {
   "cell_type": "code",
   "execution_count": 92,
   "id": "4c83e3c4-afc7-4bcb-aec2-7caf16114c14",
   "metadata": {},
   "outputs": [
    {
     "data": {
      "text/html": [
       "<div>\n",
       "<style scoped>\n",
       "    .dataframe tbody tr th:only-of-type {\n",
       "        vertical-align: middle;\n",
       "    }\n",
       "\n",
       "    .dataframe tbody tr th {\n",
       "        vertical-align: top;\n",
       "    }\n",
       "\n",
       "    .dataframe thead th {\n",
       "        text-align: right;\n",
       "    }\n",
       "</style>\n",
       "<table border=\"1\" class=\"dataframe\">\n",
       "  <thead>\n",
       "    <tr style=\"text-align: right;\">\n",
       "      <th></th>\n",
       "      <th>orig_clust</th>\n",
       "      <th>pred_clust</th>\n",
       "      <th>intercept</th>\n",
       "      <th>coef</th>\n",
       "      <th>mse</th>\n",
       "      <th>r_sq</th>\n",
       "    </tr>\n",
       "  </thead>\n",
       "  <tbody>\n",
       "    <tr>\n",
       "      <th>5</th>\n",
       "      <td>1</td>\n",
       "      <td>5</td>\n",
       "      <td>-19.232467</td>\n",
       "      <td>3.206690</td>\n",
       "      <td>471.754359</td>\n",
       "      <td>0.977219</td>\n",
       "    </tr>\n",
       "    <tr>\n",
       "      <th>10</th>\n",
       "      <td>2</td>\n",
       "      <td>4</td>\n",
       "      <td>-43.677397</td>\n",
       "      <td>5.831577</td>\n",
       "      <td>1444.872357</td>\n",
       "      <td>0.967830</td>\n",
       "    </tr>\n",
       "    <tr>\n",
       "      <th>14</th>\n",
       "      <td>3</td>\n",
       "      <td>2</td>\n",
       "      <td>4.528892</td>\n",
       "      <td>2.235056</td>\n",
       "      <td>580.683972</td>\n",
       "      <td>0.936984</td>\n",
       "    </tr>\n",
       "  </tbody>\n",
       "</table>\n",
       "</div>"
      ],
      "text/plain": [
       "    orig_clust  pred_clust  intercept      coef          mse      r_sq\n",
       "5            1           5 -19.232467  3.206690   471.754359  0.977219\n",
       "10           2           4 -43.677397  5.831577  1444.872357  0.967830\n",
       "14           3           2   4.528892  2.235056   580.683972  0.936984"
      ]
     },
     "execution_count": 92,
     "metadata": {},
     "output_type": "execute_result"
    }
   ],
   "source": [
    "eval_df[eval_df.mse == eval_df.groupby(['orig_clust'])['mse'].transform('min')]"
   ]
  },
  {
   "cell_type": "code",
   "execution_count": null,
   "id": "ff266552-aea8-4d1b-9b59-83d4486d9be0",
   "metadata": {},
   "outputs": [],
   "source": []
  }
 ],
 "metadata": {
  "kernelspec": {
   "display_name": "Python 3 (ipykernel)",
   "language": "python",
   "name": "python3"
  },
  "language_info": {
   "codemirror_mode": {
    "name": "ipython",
    "version": 3
   },
   "file_extension": ".py",
   "mimetype": "text/x-python",
   "name": "python",
   "nbconvert_exporter": "python",
   "pygments_lexer": "ipython3",
   "version": "3.9.5"
  }
 },
 "nbformat": 4,
 "nbformat_minor": 5
}
