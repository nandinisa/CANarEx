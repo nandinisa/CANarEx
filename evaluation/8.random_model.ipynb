{
 "cells": [
  {
   "cell_type": "code",
   "execution_count": 1,
   "id": "07dbe042-5098-4014-85b8-3a845b8c52f5",
   "metadata": {},
   "outputs": [],
   "source": [
    "import pandas as pd\n",
    "import json\n",
    "import pickle\n",
    "import joblib\n",
    "\n",
    "import matplotlib.pyplot as plt\n",
    "import seaborn as sns"
   ]
  },
  {
   "cell_type": "code",
   "execution_count": 2,
   "id": "8d7556da-96da-497f-af9a-60053ab0c4d3",
   "metadata": {},
   "outputs": [],
   "source": [
    "import numpy as np\n",
    "from sklearn.linear_model import LinearRegression\n",
    "from sklearn.metrics import mean_squared_error, r2_score"
   ]
  },
  {
   "cell_type": "code",
   "execution_count": 3,
   "id": "9cba79ae-0ab5-4bf1-a56c-0d1081e93a8c",
   "metadata": {},
   "outputs": [],
   "source": [
    "import random\n",
    "rng = np.random.default_rng(3005)"
   ]
  },
  {
   "cell_type": "code",
   "execution_count": null,
   "id": "bf335368-606d-414b-950f-8e9fd050e3c2",
   "metadata": {},
   "outputs": [],
   "source": [
    "from eval_canarex import calculate_mse"
   ]
  },
  {
   "cell_type": "markdown",
   "id": "e5e2325e-684c-44af-93c9-6fd22d78b708",
   "metadata": {
    "tags": []
   },
   "source": [
    "## Create model"
   ]
  },
  {
   "cell_type": "code",
   "execution_count": 4,
   "id": "e86185fa-a77a-48e4-af9d-4560162e469d",
   "metadata": {},
   "outputs": [],
   "source": [
    "ctype = 'true_text' # Null model without co-referencing\n",
    "# ctype = 'coref_text' # Null model with co-referencing\n",
    "df = pd.read_json('{}/synthetic_test_data_{}.jsonl'.format('synthetic_data', ctype), \n",
    "                  lines = True, orient='records')\n",
    "df = df.sample(frac=1, random_state=rng)\n",
    "# randomly assign labels\n",
    "df['labels'] = rng.choice(4, df.shape[0]) + 1"
   ]
  },
  {
   "cell_type": "code",
   "execution_count": 5,
   "id": "938e48e8-5c8d-4174-8a42-d9b986343e8b",
   "metadata": {},
   "outputs": [
    {
     "data": {
      "text/plain": [
       "synthetic_label  labels\n",
       "1                1         17282\n",
       "                 2         17310\n",
       "                 3         17547\n",
       "                 4         17525\n",
       "2                1         26619\n",
       "                 2         26607\n",
       "                 3         26644\n",
       "                 4         26823\n",
       "3                1         36031\n",
       "                 2         36118\n",
       "                 3         36321\n",
       "                 4         36562\n",
       "dtype: int64"
      ]
     },
     "execution_count": 5,
     "metadata": {},
     "output_type": "execute_result"
    }
   ],
   "source": [
    "df.groupby(['synthetic_label', 'labels']).size()"
   ]
  },
  {
   "cell_type": "code",
   "execution_count": 6,
   "id": "34d575ab-515b-48fa-a9dd-9248689c0e47",
   "metadata": {},
   "outputs": [
    {
     "data": {
      "text/plain": [
       "array([4, 3, 1, 2])"
      ]
     },
     "execution_count": 6,
     "metadata": {},
     "output_type": "execute_result"
    }
   ],
   "source": [
    "df.labels.unique()"
   ]
  },
  {
   "cell_type": "markdown",
   "id": "cedd7d40-f8f8-4d19-97d4-8d5c113c72b2",
   "metadata": {},
   "source": [
    "### Calculate MSE"
   ]
  },
  {
   "cell_type": "code",
   "execution_count": 7,
   "id": "cf78a8b3-2405-4280-aabf-5934183a5eac",
   "metadata": {},
   "outputs": [
    {
     "data": {
      "text/plain": [
       "'true_text'"
      ]
     },
     "execution_count": 7,
     "metadata": {},
     "output_type": "execute_result"
    }
   ],
   "source": [
    "ctype"
   ]
  },
  {
   "cell_type": "code",
   "execution_count": null,
   "id": "df4fb651-e379-463c-8d22-c3ee4bd1980f",
   "metadata": {},
   "outputs": [],
   "source": [
    "eval_df = calculate_mse(df, final)"
   ]
  },
  {
   "cell_type": "code",
   "execution_count": 9,
   "id": "62f07ede-9f35-487a-aa47-f1869320183a",
   "metadata": {},
   "outputs": [],
   "source": [
    "eval_path = 'random_model/eval_output_{}.csv'.format(ctype)"
   ]
  },
  {
   "cell_type": "code",
   "execution_count": 13,
   "id": "b2167f43-c8dd-4ba2-b316-f9888e1d5d36",
   "metadata": {},
   "outputs": [
    {
     "data": {
      "text/html": [
       "<div>\n",
       "<style scoped>\n",
       "    .dataframe tbody tr th:only-of-type {\n",
       "        vertical-align: middle;\n",
       "    }\n",
       "\n",
       "    .dataframe tbody tr th {\n",
       "        vertical-align: top;\n",
       "    }\n",
       "\n",
       "    .dataframe thead th {\n",
       "        text-align: right;\n",
       "    }\n",
       "</style>\n",
       "<table border=\"1\" class=\"dataframe\">\n",
       "  <thead>\n",
       "    <tr style=\"text-align: right;\">\n",
       "      <th></th>\n",
       "      <th>orig_clust</th>\n",
       "      <th>pred_clust</th>\n",
       "      <th>intercept</th>\n",
       "      <th>coef</th>\n",
       "      <th>mse</th>\n",
       "      <th>r_sq</th>\n",
       "    </tr>\n",
       "  </thead>\n",
       "  <tbody>\n",
       "    <tr>\n",
       "      <th>1</th>\n",
       "      <td>1</td>\n",
       "      <td>3</td>\n",
       "      <td>-132.639882</td>\n",
       "      <td>1.316536</td>\n",
       "      <td>4792.675148</td>\n",
       "      <td>0.707535</td>\n",
       "    </tr>\n",
       "    <tr>\n",
       "      <th>5</th>\n",
       "      <td>2</td>\n",
       "      <td>3</td>\n",
       "      <td>-184.863097</td>\n",
       "      <td>2.023022</td>\n",
       "      <td>7664.604652</td>\n",
       "      <td>0.801916</td>\n",
       "    </tr>\n",
       "    <tr>\n",
       "      <th>11</th>\n",
       "      <td>3</td>\n",
       "      <td>2</td>\n",
       "      <td>188.890521</td>\n",
       "      <td>0.326254</td>\n",
       "      <td>8785.580722</td>\n",
       "      <td>-7.699419</td>\n",
       "    </tr>\n",
       "  </tbody>\n",
       "</table>\n",
       "</div>"
      ],
      "text/plain": [
       "   orig_clust pred_clust   intercept      coef          mse      r_sq\n",
       "1           1          3 -132.639882  1.316536  4792.675148  0.707535\n",
       "5           2          3 -184.863097  2.023022  7664.604652  0.801916\n",
       "11          3          2  188.890521  0.326254  8785.580722 -7.699419"
      ]
     },
     "execution_count": 13,
     "metadata": {},
     "output_type": "execute_result"
    }
   ],
   "source": [
    "eval_df[eval_df.mse == eval_df.groupby(['orig_clust'])['mse'].transform('min')]"
   ]
  },
  {
   "cell_type": "code",
   "execution_count": 21,
   "id": "752c457f-e447-45e6-83f2-8b4a701ac37d",
   "metadata": {},
   "outputs": [],
   "source": [
    "eval_df.to_csv(eval_path, index = False)\n",
    "eval_df = pd.read_csv(eval_path)"
   ]
  },
  {
   "cell_type": "code",
   "execution_count": null,
   "id": "ff266552-aea8-4d1b-9b59-83d4486d9be0",
   "metadata": {},
   "outputs": [],
   "source": []
  }
 ],
 "metadata": {
  "kernelspec": {
   "display_name": "Python 3 (ipykernel)",
   "language": "python",
   "name": "python3"
  },
  "language_info": {
   "codemirror_mode": {
    "name": "ipython",
    "version": 3
   },
   "file_extension": ".py",
   "mimetype": "text/x-python",
   "name": "python",
   "nbconvert_exporter": "python",
   "pygments_lexer": "ipython3",
   "version": "3.9.5"
  }
 },
 "nbformat": 4,
 "nbformat_minor": 5
}
